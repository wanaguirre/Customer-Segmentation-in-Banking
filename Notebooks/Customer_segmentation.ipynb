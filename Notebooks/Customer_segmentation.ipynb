{
 "cells": [
  {
   "cell_type": "markdown",
   "id": "3350005c-612e-469b-81a0-a2bad6c0f40e",
   "metadata": {
    "tags": []
   },
   "source": [
    "<center> <h1> Customer Segmentation in Banking </h1> </center>\n",
    "<p style=\"margin-bottom:1cm;\"></p>"
   ]
  },
  {
   "cell_type": "markdown",
   "id": "9adf9ff4-0939-42b8-b928-d7359551f1b4",
   "metadata": {
    "tags": []
   },
   "source": [
    "# Dependencies"
   ]
  },
  {
   "cell_type": "code",
   "execution_count": 1,
   "id": "dc07f357-f190-40d8-a54f-e03a78a672ed",
   "metadata": {
    "tags": []
   },
   "outputs": [],
   "source": [
    "%matplotlib inline\n",
    "%load_ext lab_black"
   ]
  },
  {
   "cell_type": "code",
   "execution_count": 2,
   "id": "f1c34199-64f6-44d8-b0a8-9ad0ef4b9fac",
   "metadata": {
    "colab": {
     "base_uri": "https://localhost:8080/",
     "height": 531
    },
    "id": "2JeHkmas17xI",
    "outputId": "c7248a92-4f0b-4cc3-84a3-ce1d7991bbd0",
    "tags": []
   },
   "outputs": [
    {
     "name": "stdout",
     "output_type": "stream",
     "text": [
      "Collecting imblearn\n",
      "  Using cached imblearn-0.0-py2.py3-none-any.whl (1.9 kB)\n",
      "Collecting imbalanced-learn\n",
      "  Downloading imbalanced_learn-0.9.0-py3-none-any.whl (199 kB)\n",
      "Collecting scikit-learn>=1.0.1\n",
      "  Downloading scikit_learn-1.0.2-cp39-cp39-win_amd64.whl (7.2 MB)\n",
      "Collecting threadpoolctl>=2.0.0\n",
      "  Downloading threadpoolctl-3.0.0-py3-none-any.whl (14 kB)\n",
      "Collecting joblib>=0.11\n",
      "  Downloading joblib-1.1.0-py2.py3-none-any.whl (306 kB)\n",
      "Collecting scipy>=1.1.0\n",
      "  Downloading scipy-1.7.3-cp39-cp39-win_amd64.whl (34.3 MB)\n",
      "Collecting numpy>=1.14.6\n",
      "  Downloading numpy-1.22.1-cp39-cp39-win_amd64.whl (14.7 MB)\n",
      "Installing collected packages: numpy, threadpoolctl, scipy, joblib, scikit-learn, imbalanced-learn, imblearn\n"
     ]
    },
    {
     "name": "stderr",
     "output_type": "stream",
     "text": [
      "ERROR: Could not install packages due to an OSError: [WinError 5] Access is denied: 'C:\\\\Users\\\\juana_0mrk5mk\\\\anaconda3\\\\envs\\\\MLG\\\\Lib\\\\site-packages\\\\numpy\\\\core\\\\_multiarray_tests.cp39-win_amd64.pyd'\n",
      "Consider using the `--user` option or check the permissions.\n",
      "\n"
     ]
    }
   ],
   "source": [
    "!pip install imblearn --ignore-installed"
   ]
  },
  {
   "cell_type": "code",
   "execution_count": 4,
   "id": "a41511e6-7f47-4c81-b84d-673637c10cd8",
   "metadata": {
    "tags": []
   },
   "outputs": [],
   "source": [
    "from configparser import ConfigParser\n",
    "import numpy as np\n",
    "import pandas as pd\n",
    "import scipy.stats as stats\n",
    "import matplotlib.pyplot as plt\n",
    "\n",
    "from sklearn import metrics\n",
    "from sklearn.model_selection import train_test_split, KFold, cross_val_score\n",
    "from sklearn.metrics import (\n",
    "    accuracy_score,\n",
    "    classification_report,\n",
    "    confusion_matrix,\n",
    "    precision_recall_fscore_support,\n",
    "    precision_recall_curve,\n",
    "    f1_score,\n",
    "    classification_report,\n",
    ")\n",
    "from sklearn.linear_model import LogisticRegression\n",
    "from sklearn.compose import ColumnTransformer\n",
    "from sklearn.pipeline import Pipeline\n",
    "from sklearn.impute import SimpleImputer\n",
    "from sklearn.preprocessing import StandardScaler, MinMaxScaler, OneHotEncoder\n",
    "\n",
    "from imblearn.under_sampling import RandomUnderSampler"
   ]
  },
  {
   "cell_type": "code",
   "execution_count": 5,
   "id": "0485841e-4eb9-42e4-9b32-c0f6a4ee76c2",
   "metadata": {},
   "outputs": [],
   "source": [
    "# to use the seaborn style in the matplotlib plots\n",
    "plt.style.use(\"seaborn\")"
   ]
  },
  {
   "cell_type": "markdown",
   "id": "730cf7a5-9e52-4231-aaa7-0cbc20008aa2",
   "metadata": {},
   "source": [
    "## Data understanding"
   ]
  },
  {
   "cell_type": "markdown",
   "id": "ed2fcb75-124f-4016-849c-6290b796b72c",
   "metadata": {},
   "source": [
    "Load the data and have a look at the basic properties."
   ]
  },
  {
   "cell_type": "code",
   "execution_count": 6,
   "id": "6cd0ba1e-9c7f-4e5a-8c8f-f039509ceab6",
   "metadata": {},
   "outputs": [],
   "source": [
    "parser = ConfigParser()\n",
    "_ = parser.read(\"notebook.cfg\")\n",
    "\n",
    "path = parser.get(\"my_api\", \"path\")"
   ]
  },
  {
   "cell_type": "code",
   "execution_count": 8,
   "id": "6918d11c-1251-4d25-a2a3-ce26c7dc2c73",
   "metadata": {},
   "outputs": [],
   "source": [
    "data_path = path + \"/Data/banking.csv\""
   ]
  },
  {
   "cell_type": "code",
   "execution_count": 9,
   "id": "c542dafd-d74c-403e-b37f-2c947b60e712",
   "metadata": {},
   "outputs": [
    {
     "data": {
      "text/html": [
       "<div>\n",
       "<style scoped>\n",
       "    .dataframe tbody tr th:only-of-type {\n",
       "        vertical-align: middle;\n",
       "    }\n",
       "\n",
       "    .dataframe tbody tr th {\n",
       "        vertical-align: top;\n",
       "    }\n",
       "\n",
       "    .dataframe thead th {\n",
       "        text-align: right;\n",
       "    }\n",
       "</style>\n",
       "<table border=\"1\" class=\"dataframe\">\n",
       "  <thead>\n",
       "    <tr style=\"text-align: right;\">\n",
       "      <th></th>\n",
       "      <th>age</th>\n",
       "      <th>job</th>\n",
       "      <th>marital</th>\n",
       "      <th>education</th>\n",
       "      <th>default</th>\n",
       "      <th>housing</th>\n",
       "      <th>loan</th>\n",
       "      <th>contact</th>\n",
       "      <th>month</th>\n",
       "      <th>day_of_week</th>\n",
       "      <th>...</th>\n",
       "      <th>campaign</th>\n",
       "      <th>pdays</th>\n",
       "      <th>previous</th>\n",
       "      <th>poutcome</th>\n",
       "      <th>emp_var_rate</th>\n",
       "      <th>cons_price_idx</th>\n",
       "      <th>cons_conf_idx</th>\n",
       "      <th>euribor3m</th>\n",
       "      <th>nr_employed</th>\n",
       "      <th>y</th>\n",
       "    </tr>\n",
       "  </thead>\n",
       "  <tbody>\n",
       "    <tr>\n",
       "      <th>0</th>\n",
       "      <td>44</td>\n",
       "      <td>blue-collar</td>\n",
       "      <td>married</td>\n",
       "      <td>basic.4y</td>\n",
       "      <td>unknown</td>\n",
       "      <td>yes</td>\n",
       "      <td>no</td>\n",
       "      <td>cellular</td>\n",
       "      <td>aug</td>\n",
       "      <td>thu</td>\n",
       "      <td>...</td>\n",
       "      <td>1</td>\n",
       "      <td>999</td>\n",
       "      <td>0</td>\n",
       "      <td>nonexistent</td>\n",
       "      <td>1.4</td>\n",
       "      <td>93.444</td>\n",
       "      <td>-36.1</td>\n",
       "      <td>4.963</td>\n",
       "      <td>5228.1</td>\n",
       "      <td>0</td>\n",
       "    </tr>\n",
       "    <tr>\n",
       "      <th>1</th>\n",
       "      <td>53</td>\n",
       "      <td>technician</td>\n",
       "      <td>married</td>\n",
       "      <td>unknown</td>\n",
       "      <td>no</td>\n",
       "      <td>no</td>\n",
       "      <td>no</td>\n",
       "      <td>cellular</td>\n",
       "      <td>nov</td>\n",
       "      <td>fri</td>\n",
       "      <td>...</td>\n",
       "      <td>1</td>\n",
       "      <td>999</td>\n",
       "      <td>0</td>\n",
       "      <td>nonexistent</td>\n",
       "      <td>-0.1</td>\n",
       "      <td>93.200</td>\n",
       "      <td>-42.0</td>\n",
       "      <td>4.021</td>\n",
       "      <td>5195.8</td>\n",
       "      <td>0</td>\n",
       "    </tr>\n",
       "    <tr>\n",
       "      <th>2</th>\n",
       "      <td>28</td>\n",
       "      <td>management</td>\n",
       "      <td>single</td>\n",
       "      <td>university.degree</td>\n",
       "      <td>no</td>\n",
       "      <td>yes</td>\n",
       "      <td>no</td>\n",
       "      <td>cellular</td>\n",
       "      <td>jun</td>\n",
       "      <td>thu</td>\n",
       "      <td>...</td>\n",
       "      <td>3</td>\n",
       "      <td>6</td>\n",
       "      <td>2</td>\n",
       "      <td>success</td>\n",
       "      <td>-1.7</td>\n",
       "      <td>94.055</td>\n",
       "      <td>-39.8</td>\n",
       "      <td>0.729</td>\n",
       "      <td>4991.6</td>\n",
       "      <td>1</td>\n",
       "    </tr>\n",
       "    <tr>\n",
       "      <th>3</th>\n",
       "      <td>39</td>\n",
       "      <td>services</td>\n",
       "      <td>married</td>\n",
       "      <td>high.school</td>\n",
       "      <td>no</td>\n",
       "      <td>no</td>\n",
       "      <td>no</td>\n",
       "      <td>cellular</td>\n",
       "      <td>apr</td>\n",
       "      <td>fri</td>\n",
       "      <td>...</td>\n",
       "      <td>2</td>\n",
       "      <td>999</td>\n",
       "      <td>0</td>\n",
       "      <td>nonexistent</td>\n",
       "      <td>-1.8</td>\n",
       "      <td>93.075</td>\n",
       "      <td>-47.1</td>\n",
       "      <td>1.405</td>\n",
       "      <td>5099.1</td>\n",
       "      <td>0</td>\n",
       "    </tr>\n",
       "    <tr>\n",
       "      <th>4</th>\n",
       "      <td>55</td>\n",
       "      <td>retired</td>\n",
       "      <td>married</td>\n",
       "      <td>basic.4y</td>\n",
       "      <td>no</td>\n",
       "      <td>yes</td>\n",
       "      <td>no</td>\n",
       "      <td>cellular</td>\n",
       "      <td>aug</td>\n",
       "      <td>fri</td>\n",
       "      <td>...</td>\n",
       "      <td>1</td>\n",
       "      <td>3</td>\n",
       "      <td>1</td>\n",
       "      <td>success</td>\n",
       "      <td>-2.9</td>\n",
       "      <td>92.201</td>\n",
       "      <td>-31.4</td>\n",
       "      <td>0.869</td>\n",
       "      <td>5076.2</td>\n",
       "      <td>1</td>\n",
       "    </tr>\n",
       "  </tbody>\n",
       "</table>\n",
       "<p>5 rows × 21 columns</p>\n",
       "</div>"
      ],
      "text/plain": [
       "   age          job  marital          education  default housing loan  \\\n",
       "0   44  blue-collar  married           basic.4y  unknown     yes   no   \n",
       "1   53   technician  married            unknown       no      no   no   \n",
       "2   28   management   single  university.degree       no     yes   no   \n",
       "3   39     services  married        high.school       no      no   no   \n",
       "4   55      retired  married           basic.4y       no     yes   no   \n",
       "\n",
       "    contact month day_of_week  ...  campaign  pdays  previous     poutcome  \\\n",
       "0  cellular   aug         thu  ...         1    999         0  nonexistent   \n",
       "1  cellular   nov         fri  ...         1    999         0  nonexistent   \n",
       "2  cellular   jun         thu  ...         3      6         2      success   \n",
       "3  cellular   apr         fri  ...         2    999         0  nonexistent   \n",
       "4  cellular   aug         fri  ...         1      3         1      success   \n",
       "\n",
       "  emp_var_rate  cons_price_idx  cons_conf_idx  euribor3m  nr_employed  y  \n",
       "0          1.4          93.444          -36.1      4.963       5228.1  0  \n",
       "1         -0.1          93.200          -42.0      4.021       5195.8  0  \n",
       "2         -1.7          94.055          -39.8      0.729       4991.6  1  \n",
       "3         -1.8          93.075          -47.1      1.405       5099.1  0  \n",
       "4         -2.9          92.201          -31.4      0.869       5076.2  1  \n",
       "\n",
       "[5 rows x 21 columns]"
      ]
     },
     "execution_count": 9,
     "metadata": {},
     "output_type": "execute_result"
    }
   ],
   "source": [
    "df_raw = pd.read_csv(data_path)\n",
    "df = df_raw.copy()\n",
    "df.head()"
   ]
  },
  {
   "cell_type": "code",
   "execution_count": null,
   "id": "4bba66f9-6dd5-4f3c-abd1-5450f7b8b3ea",
   "metadata": {},
   "outputs": [],
   "source": [
    "# Check the type of values of each column\n",
    "df.dtypes"
   ]
  },
  {
   "cell_type": "code",
   "execution_count": null,
   "id": "66f21725-76ef-4db1-90ac-1e8f71f4893c",
   "metadata": {},
   "outputs": [],
   "source": [
    "# Check the shape of the DataFrame\n",
    "df.shape"
   ]
  },
  {
   "cell_type": "code",
   "execution_count": null,
   "id": "58cb0d73-6fe6-45e7-9162-33dcfd84fb13",
   "metadata": {},
   "outputs": [],
   "source": [
    "# Check if the df has NaN values\n",
    "df.isna().sum()"
   ]
  },
  {
   "cell_type": "code",
   "execution_count": null,
   "id": "778d5019-a020-4362-87fc-7d5be5f50358",
   "metadata": {},
   "outputs": [],
   "source": [
    "# Some information about each feature\n",
    "df.describe()"
   ]
  },
  {
   "cell_type": "code",
   "execution_count": null,
   "id": "854efe06-0cf5-4c67-804a-6e6efcdea47b",
   "metadata": {},
   "outputs": [],
   "source": [
    "# This creats histograms for all numerical features\n",
    "df.hist(figsize=(15, 10))\n",
    "None"
   ]
  },
  {
   "cell_type": "code",
   "execution_count": null,
   "id": "d10631b2-131b-4abe-aff6-b1647f00e2ba",
   "metadata": {},
   "outputs": [],
   "source": [
    "# Let's check the number of categories per categorical feature\n",
    "df.select_dtypes(include=[\"object\"]).apply(lambda col: len(col.unique()))"
   ]
  },
  {
   "cell_type": "code",
   "execution_count": null,
   "id": "ce7a958b-6f0b-47c4-9c0b-a0d234d014b7",
   "metadata": {},
   "outputs": [],
   "source": [
    "# Take a closer look at features with many categories\n",
    "print(f\"Job categories:\\n{df['job'].unique()}\\n\")\n",
    "print(f\"Month categories:\\n{df['month'].unique()}\\n\")\n",
    "print(f\"Education categories:\\n{df['education'].unique()}\")"
   ]
  },
  {
   "cell_type": "markdown",
   "id": "630ff1f2-20f2-4d57-88cf-337c372d7f92",
   "metadata": {},
   "source": [
    "In general, the categories look pretty clean. For the education categories we can combine the different levels of basic education to reduce the number of categories."
   ]
  },
  {
   "cell_type": "markdown",
   "id": "2f8dd341-fd91-4036-95ad-35e996915c5a",
   "metadata": {},
   "source": [
    "## Data preprocessing"
   ]
  },
  {
   "cell_type": "markdown",
   "id": "aed3db7c-b41a-4077-b2be-d5b16cffb3bb",
   "metadata": {},
   "source": [
    "### Feature extraction "
   ]
  },
  {
   "cell_type": "markdown",
   "id": "4745e2be-8acc-4cb8-86b0-2de0a51ad7b7",
   "metadata": {},
   "source": [
    "Don't use the feature 'duration' for building a model since the description of this feature states: \n",
    "\n",
    "Last contact duration, in seconds (numeric). Important note: this attribute highly affects the output target (e.g., if duration=0 then y='no'). Yet, the duration is not known before a call is performed. Also, after the end of the call y is obviously known. Thus, this input should only be included for benchmark purposes and should be discarded if the intention is to have a realistic predictive model."
   ]
  },
  {
   "cell_type": "code",
   "execution_count": null,
   "id": "ec89a8e3-607c-4391-8ecd-4e8bd8e6ed8d",
   "metadata": {},
   "outputs": [],
   "source": [
    "# check the name of the columns\n",
    "df.columns"
   ]
  },
  {
   "cell_type": "code",
   "execution_count": null,
   "id": "a253cdb6-9e76-45b7-8b93-70374e29aa9b",
   "metadata": {
    "tags": []
   },
   "outputs": [],
   "source": [
    "# get features and corresponding outcomes\n",
    "df_clean = df.drop(columns=[\"duration\"])\n",
    "df_clean"
   ]
  },
  {
   "cell_type": "markdown",
   "id": "d2f711f3-6603-4bca-baf3-a0ebcf7f6790",
   "metadata": {},
   "source": [
    "### Train-Test Split"
   ]
  },
  {
   "cell_type": "markdown",
   "id": "aa4ebdf4-703f-4ff6-a0cc-ad585ec04679",
   "metadata": {},
   "source": [
    "We separate the dataset into train and test as follows in order to perform sampling later.   \n",
    "Taking sample from the whole dataset (with 'y' included) is easier than taking it separately from X_train and y_train.  "
   ]
  },
  {
   "cell_type": "code",
   "execution_count": 16,
   "id": "a993f925-9852-41bd-9318-552ad554bf52",
   "metadata": {},
   "outputs": [],
   "source": [
    "df_train, df_test = train_test_split(\n",
    "    df_clean, test_size=0.2, random_state=5, stratify=df_clean[\"y\"]\n",
    ")"
   ]
  },
  {
   "cell_type": "markdown",
   "id": "37057d19-dd9d-41b7-bf28-2888150c7d78",
   "metadata": {},
   "source": [
    "### Split numerical and categorical features\n",
    "For data preprocessing we have to separate numerical and categorical features. Different preprocessing steps are required for both type of features."
   ]
  },
  {
   "cell_type": "code",
   "execution_count": null,
   "id": "feac6670-2f87-48d9-a591-0cd1f323ded7",
   "metadata": {},
   "outputs": [],
   "source": [
    "categorical_features = df.iloc[:, list(np.where(X.dtypes == \"object\")[0])].columns\n",
    "numerical_features = df.iloc[:, list(np.where(X.dtypes == \"int\")[0])].columns\n",
    "categorical_features, numerical_features"
   ]
  },
  {
   "cell_type": "code",
   "execution_count": null,
   "id": "0b8d004e-3072-41ae-9bd4-ef5971615b79",
   "metadata": {},
   "outputs": [],
   "source": []
  },
  {
   "cell_type": "code",
   "execution_count": null,
   "id": "62ecdad6-4882-4955-b7ff-c85a5c6e3f83",
   "metadata": {},
   "outputs": [],
   "source": []
  },
  {
   "cell_type": "code",
   "execution_count": null,
   "id": "40c7528d-2cdc-4215-96f6-45bd081d3cfa",
   "metadata": {},
   "outputs": [],
   "source": []
  },
  {
   "cell_type": "code",
   "execution_count": null,
   "id": "b399c930-1298-4a60-ab39-050a8ba0acf5",
   "metadata": {},
   "outputs": [],
   "source": []
  },
  {
   "cell_type": "code",
   "execution_count": null,
   "id": "af5140db-c7af-4509-a7f2-37b8a66c8eee",
   "metadata": {},
   "outputs": [],
   "source": []
  },
  {
   "cell_type": "code",
   "execution_count": null,
   "id": "e5aad48c-d3ab-43bd-8800-802358b7bd7b",
   "metadata": {},
   "outputs": [],
   "source": []
  },
  {
   "cell_type": "code",
   "execution_count": null,
   "id": "58ec0b4d-b808-47e4-b73b-9fb6bfea5023",
   "metadata": {},
   "outputs": [],
   "source": []
  },
  {
   "cell_type": "code",
   "execution_count": null,
   "id": "a9505c87-7e0c-47f7-a7db-e00e6d797971",
   "metadata": {},
   "outputs": [],
   "source": []
  },
  {
   "cell_type": "code",
   "execution_count": null,
   "id": "30d4bb4e-b2af-46cf-bd28-823546703fab",
   "metadata": {},
   "outputs": [],
   "source": []
  },
  {
   "cell_type": "code",
   "execution_count": null,
   "id": "b7a885b5-47ca-4ee0-8ae1-ee4a27790cc8",
   "metadata": {},
   "outputs": [],
   "source": []
  },
  {
   "cell_type": "code",
   "execution_count": null,
   "id": "9c47ba7c-8956-469e-8963-0698534b8ad7",
   "metadata": {},
   "outputs": [],
   "source": []
  },
  {
   "cell_type": "code",
   "execution_count": null,
   "id": "db14392d-e62f-4426-9869-aa92ffc7adf5",
   "metadata": {},
   "outputs": [],
   "source": []
  }
 ],
 "metadata": {
  "kernelspec": {
   "display_name": "MLG",
   "language": "python",
   "name": "mlg"
  },
  "language_info": {
   "codemirror_mode": {
    "name": "ipython",
    "version": 3
   },
   "file_extension": ".py",
   "mimetype": "text/x-python",
   "name": "python",
   "nbconvert_exporter": "python",
   "pygments_lexer": "ipython3",
   "version": "3.9.7"
  }
 },
 "nbformat": 4,
 "nbformat_minor": 5
}
