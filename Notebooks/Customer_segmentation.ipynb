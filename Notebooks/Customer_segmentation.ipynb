{
 "cells": [
  {
   "cell_type": "markdown",
   "id": "3350005c-612e-469b-81a0-a2bad6c0f40e",
   "metadata": {
    "tags": []
   },
   "source": [
    "<center> <h1> Customer Segmentation in Banking </h1> </center>\n",
    "<p style=\"margin-bottom:1cm;\"></p>"
   ]
  },
  {
   "cell_type": "markdown",
   "id": "9adf9ff4-0939-42b8-b928-d7359551f1b4",
   "metadata": {
    "tags": []
   },
   "source": [
    "# Dependencies"
   ]
  },
  {
   "cell_type": "code",
   "execution_count": 8,
   "id": "dc07f357-f190-40d8-a54f-e03a78a672ed",
   "metadata": {
    "tags": []
   },
   "outputs": [
    {
     "name": "stdout",
     "output_type": "stream",
     "text": [
      "The lab_black extension is already loaded. To reload it, use:\n",
      "  %reload_ext lab_black\n"
     ]
    }
   ],
   "source": [
    "%matplotlib inline\n",
    "%load_ext lab_black"
   ]
  },
  {
   "cell_type": "code",
   "execution_count": 79,
   "id": "a41511e6-7f47-4c81-b84d-673637c10cd8",
   "metadata": {
    "tags": []
   },
   "outputs": [],
   "source": [
    "from configparser import ConfigParser\n",
    "import numpy as np\n",
    "import pandas as pd\n",
    "import scipy.stats as stats\n",
    "import matplotlib.pyplot as plt\n",
    "\n",
    "from sklearn import metrics\n",
    "from sklearn.model_selection import train_test_split, KFold, cross_val_score\n",
    "from sklearn.metrics import (\n",
    "    accuracy_score,\n",
    "    classification_report,\n",
    "    confusion_matrix,\n",
    "    precision_recall_fscore_support,\n",
    "    precision_recall_curve,\n",
    "    f1_score,\n",
    "    classification_report,\n",
    ")\n",
    "from sklearn.linear_model import LogisticRegression\n",
    "from sklearn.neighbors import KNeighborsClassifier\n",
    "from sklearn.naive_bayes import BernoulliNB\n",
    "from sklearn.svm import LinearSVC\n",
    "from sklearn.ensemble import RandomForestClassifier\n",
    "from sklearn.ensemble import AdaBoostClassifier\n",
    "from sklearn.tree import DecisionTreeClassifier\n",
    "from xgboost import XGBClassifier, plot_importance\n",
    "from sklearn.compose import ColumnTransformer\n",
    "from sklearn.pipeline import Pipeline\n",
    "from sklearn.impute import SimpleImputer\n",
    "from sklearn.preprocessing import StandardScaler, MinMaxScaler, OneHotEncoder\n",
    "\n",
    "from imblearn.under_sampling import RandomUnderSampler"
   ]
  },
  {
   "cell_type": "code",
   "execution_count": 10,
   "id": "0485841e-4eb9-42e4-9b32-c0f6a4ee76c2",
   "metadata": {},
   "outputs": [],
   "source": [
    "# to use the seaborn style in the matplotlib plots\n",
    "plt.style.use(\"seaborn\")"
   ]
  },
  {
   "cell_type": "markdown",
   "id": "730cf7a5-9e52-4231-aaa7-0cbc20008aa2",
   "metadata": {},
   "source": [
    "## Data understanding"
   ]
  },
  {
   "cell_type": "markdown",
   "id": "ed2fcb75-124f-4016-849c-6290b796b72c",
   "metadata": {},
   "source": [
    "Load the data and have a look at the basic properties."
   ]
  },
  {
   "cell_type": "code",
   "execution_count": 11,
   "id": "6cd0ba1e-9c7f-4e5a-8c8f-f039509ceab6",
   "metadata": {},
   "outputs": [],
   "source": [
    "parser = ConfigParser()\n",
    "_ = parser.read(\"notebook.cfg\")\n",
    "\n",
    "path = parser.get(\"my_api\", \"path\")"
   ]
  },
  {
   "cell_type": "code",
   "execution_count": 12,
   "id": "6918d11c-1251-4d25-a2a3-ce26c7dc2c73",
   "metadata": {},
   "outputs": [],
   "source": [
    "data_path = path + \"/Data/banking.csv\""
   ]
  },
  {
   "cell_type": "code",
   "execution_count": 13,
   "id": "c542dafd-d74c-403e-b37f-2c947b60e712",
   "metadata": {},
   "outputs": [
    {
     "data": {
      "text/html": [
       "<div>\n",
       "<style scoped>\n",
       "    .dataframe tbody tr th:only-of-type {\n",
       "        vertical-align: middle;\n",
       "    }\n",
       "\n",
       "    .dataframe tbody tr th {\n",
       "        vertical-align: top;\n",
       "    }\n",
       "\n",
       "    .dataframe thead th {\n",
       "        text-align: right;\n",
       "    }\n",
       "</style>\n",
       "<table border=\"1\" class=\"dataframe\">\n",
       "  <thead>\n",
       "    <tr style=\"text-align: right;\">\n",
       "      <th></th>\n",
       "      <th>age</th>\n",
       "      <th>job</th>\n",
       "      <th>marital</th>\n",
       "      <th>education</th>\n",
       "      <th>default</th>\n",
       "      <th>housing</th>\n",
       "      <th>loan</th>\n",
       "      <th>contact</th>\n",
       "      <th>month</th>\n",
       "      <th>day_of_week</th>\n",
       "      <th>...</th>\n",
       "      <th>campaign</th>\n",
       "      <th>pdays</th>\n",
       "      <th>previous</th>\n",
       "      <th>poutcome</th>\n",
       "      <th>emp_var_rate</th>\n",
       "      <th>cons_price_idx</th>\n",
       "      <th>cons_conf_idx</th>\n",
       "      <th>euribor3m</th>\n",
       "      <th>nr_employed</th>\n",
       "      <th>y</th>\n",
       "    </tr>\n",
       "  </thead>\n",
       "  <tbody>\n",
       "    <tr>\n",
       "      <th>0</th>\n",
       "      <td>44</td>\n",
       "      <td>blue-collar</td>\n",
       "      <td>married</td>\n",
       "      <td>basic.4y</td>\n",
       "      <td>unknown</td>\n",
       "      <td>yes</td>\n",
       "      <td>no</td>\n",
       "      <td>cellular</td>\n",
       "      <td>aug</td>\n",
       "      <td>thu</td>\n",
       "      <td>...</td>\n",
       "      <td>1</td>\n",
       "      <td>999</td>\n",
       "      <td>0</td>\n",
       "      <td>nonexistent</td>\n",
       "      <td>1.4</td>\n",
       "      <td>93.444</td>\n",
       "      <td>-36.1</td>\n",
       "      <td>4.963</td>\n",
       "      <td>5228.1</td>\n",
       "      <td>0</td>\n",
       "    </tr>\n",
       "    <tr>\n",
       "      <th>1</th>\n",
       "      <td>53</td>\n",
       "      <td>technician</td>\n",
       "      <td>married</td>\n",
       "      <td>unknown</td>\n",
       "      <td>no</td>\n",
       "      <td>no</td>\n",
       "      <td>no</td>\n",
       "      <td>cellular</td>\n",
       "      <td>nov</td>\n",
       "      <td>fri</td>\n",
       "      <td>...</td>\n",
       "      <td>1</td>\n",
       "      <td>999</td>\n",
       "      <td>0</td>\n",
       "      <td>nonexistent</td>\n",
       "      <td>-0.1</td>\n",
       "      <td>93.200</td>\n",
       "      <td>-42.0</td>\n",
       "      <td>4.021</td>\n",
       "      <td>5195.8</td>\n",
       "      <td>0</td>\n",
       "    </tr>\n",
       "    <tr>\n",
       "      <th>2</th>\n",
       "      <td>28</td>\n",
       "      <td>management</td>\n",
       "      <td>single</td>\n",
       "      <td>university.degree</td>\n",
       "      <td>no</td>\n",
       "      <td>yes</td>\n",
       "      <td>no</td>\n",
       "      <td>cellular</td>\n",
       "      <td>jun</td>\n",
       "      <td>thu</td>\n",
       "      <td>...</td>\n",
       "      <td>3</td>\n",
       "      <td>6</td>\n",
       "      <td>2</td>\n",
       "      <td>success</td>\n",
       "      <td>-1.7</td>\n",
       "      <td>94.055</td>\n",
       "      <td>-39.8</td>\n",
       "      <td>0.729</td>\n",
       "      <td>4991.6</td>\n",
       "      <td>1</td>\n",
       "    </tr>\n",
       "    <tr>\n",
       "      <th>3</th>\n",
       "      <td>39</td>\n",
       "      <td>services</td>\n",
       "      <td>married</td>\n",
       "      <td>high.school</td>\n",
       "      <td>no</td>\n",
       "      <td>no</td>\n",
       "      <td>no</td>\n",
       "      <td>cellular</td>\n",
       "      <td>apr</td>\n",
       "      <td>fri</td>\n",
       "      <td>...</td>\n",
       "      <td>2</td>\n",
       "      <td>999</td>\n",
       "      <td>0</td>\n",
       "      <td>nonexistent</td>\n",
       "      <td>-1.8</td>\n",
       "      <td>93.075</td>\n",
       "      <td>-47.1</td>\n",
       "      <td>1.405</td>\n",
       "      <td>5099.1</td>\n",
       "      <td>0</td>\n",
       "    </tr>\n",
       "    <tr>\n",
       "      <th>4</th>\n",
       "      <td>55</td>\n",
       "      <td>retired</td>\n",
       "      <td>married</td>\n",
       "      <td>basic.4y</td>\n",
       "      <td>no</td>\n",
       "      <td>yes</td>\n",
       "      <td>no</td>\n",
       "      <td>cellular</td>\n",
       "      <td>aug</td>\n",
       "      <td>fri</td>\n",
       "      <td>...</td>\n",
       "      <td>1</td>\n",
       "      <td>3</td>\n",
       "      <td>1</td>\n",
       "      <td>success</td>\n",
       "      <td>-2.9</td>\n",
       "      <td>92.201</td>\n",
       "      <td>-31.4</td>\n",
       "      <td>0.869</td>\n",
       "      <td>5076.2</td>\n",
       "      <td>1</td>\n",
       "    </tr>\n",
       "  </tbody>\n",
       "</table>\n",
       "<p>5 rows × 21 columns</p>\n",
       "</div>"
      ],
      "text/plain": [
       "   age          job  marital          education  default housing loan  \\\n",
       "0   44  blue-collar  married           basic.4y  unknown     yes   no   \n",
       "1   53   technician  married            unknown       no      no   no   \n",
       "2   28   management   single  university.degree       no     yes   no   \n",
       "3   39     services  married        high.school       no      no   no   \n",
       "4   55      retired  married           basic.4y       no     yes   no   \n",
       "\n",
       "    contact month day_of_week  ...  campaign  pdays  previous     poutcome  \\\n",
       "0  cellular   aug         thu  ...         1    999         0  nonexistent   \n",
       "1  cellular   nov         fri  ...         1    999         0  nonexistent   \n",
       "2  cellular   jun         thu  ...         3      6         2      success   \n",
       "3  cellular   apr         fri  ...         2    999         0  nonexistent   \n",
       "4  cellular   aug         fri  ...         1      3         1      success   \n",
       "\n",
       "  emp_var_rate  cons_price_idx  cons_conf_idx  euribor3m  nr_employed  y  \n",
       "0          1.4          93.444          -36.1      4.963       5228.1  0  \n",
       "1         -0.1          93.200          -42.0      4.021       5195.8  0  \n",
       "2         -1.7          94.055          -39.8      0.729       4991.6  1  \n",
       "3         -1.8          93.075          -47.1      1.405       5099.1  0  \n",
       "4         -2.9          92.201          -31.4      0.869       5076.2  1  \n",
       "\n",
       "[5 rows x 21 columns]"
      ]
     },
     "execution_count": 13,
     "metadata": {},
     "output_type": "execute_result"
    }
   ],
   "source": [
    "df_raw = pd.read_csv(data_path)\n",
    "df = df_raw.copy()\n",
    "df.head()"
   ]
  },
  {
   "cell_type": "code",
   "execution_count": 14,
   "id": "4bba66f9-6dd5-4f3c-abd1-5450f7b8b3ea",
   "metadata": {},
   "outputs": [
    {
     "data": {
      "text/plain": [
       "age                 int64\n",
       "job                object\n",
       "marital            object\n",
       "education          object\n",
       "default            object\n",
       "housing            object\n",
       "loan               object\n",
       "contact            object\n",
       "month              object\n",
       "day_of_week        object\n",
       "duration            int64\n",
       "campaign            int64\n",
       "pdays               int64\n",
       "previous            int64\n",
       "poutcome           object\n",
       "emp_var_rate      float64\n",
       "cons_price_idx    float64\n",
       "cons_conf_idx     float64\n",
       "euribor3m         float64\n",
       "nr_employed       float64\n",
       "y                   int64\n",
       "dtype: object"
      ]
     },
     "execution_count": 14,
     "metadata": {},
     "output_type": "execute_result"
    }
   ],
   "source": [
    "# Check the type of values of each column\n",
    "df.dtypes"
   ]
  },
  {
   "cell_type": "code",
   "execution_count": 15,
   "id": "66f21725-76ef-4db1-90ac-1e8f71f4893c",
   "metadata": {},
   "outputs": [
    {
     "data": {
      "text/plain": [
       "(41188, 21)"
      ]
     },
     "execution_count": 15,
     "metadata": {},
     "output_type": "execute_result"
    }
   ],
   "source": [
    "# Check the shape of the DataFrame\n",
    "df.shape"
   ]
  },
  {
   "cell_type": "code",
   "execution_count": 16,
   "id": "58cb0d73-6fe6-45e7-9162-33dcfd84fb13",
   "metadata": {},
   "outputs": [
    {
     "data": {
      "text/plain": [
       "age               0\n",
       "job               0\n",
       "marital           0\n",
       "education         0\n",
       "default           0\n",
       "housing           0\n",
       "loan              0\n",
       "contact           0\n",
       "month             0\n",
       "day_of_week       0\n",
       "duration          0\n",
       "campaign          0\n",
       "pdays             0\n",
       "previous          0\n",
       "poutcome          0\n",
       "emp_var_rate      0\n",
       "cons_price_idx    0\n",
       "cons_conf_idx     0\n",
       "euribor3m         0\n",
       "nr_employed       0\n",
       "y                 0\n",
       "dtype: int64"
      ]
     },
     "execution_count": 16,
     "metadata": {},
     "output_type": "execute_result"
    }
   ],
   "source": [
    "# Check if the df has NaN values\n",
    "df.isna().sum()"
   ]
  },
  {
   "cell_type": "code",
   "execution_count": 17,
   "id": "778d5019-a020-4362-87fc-7d5be5f50358",
   "metadata": {},
   "outputs": [
    {
     "data": {
      "text/html": [
       "<div>\n",
       "<style scoped>\n",
       "    .dataframe tbody tr th:only-of-type {\n",
       "        vertical-align: middle;\n",
       "    }\n",
       "\n",
       "    .dataframe tbody tr th {\n",
       "        vertical-align: top;\n",
       "    }\n",
       "\n",
       "    .dataframe thead th {\n",
       "        text-align: right;\n",
       "    }\n",
       "</style>\n",
       "<table border=\"1\" class=\"dataframe\">\n",
       "  <thead>\n",
       "    <tr style=\"text-align: right;\">\n",
       "      <th></th>\n",
       "      <th>age</th>\n",
       "      <th>duration</th>\n",
       "      <th>campaign</th>\n",
       "      <th>pdays</th>\n",
       "      <th>previous</th>\n",
       "      <th>emp_var_rate</th>\n",
       "      <th>cons_price_idx</th>\n",
       "      <th>cons_conf_idx</th>\n",
       "      <th>euribor3m</th>\n",
       "      <th>nr_employed</th>\n",
       "      <th>y</th>\n",
       "    </tr>\n",
       "  </thead>\n",
       "  <tbody>\n",
       "    <tr>\n",
       "      <th>count</th>\n",
       "      <td>41188.00000</td>\n",
       "      <td>41188.000000</td>\n",
       "      <td>41188.000000</td>\n",
       "      <td>41188.000000</td>\n",
       "      <td>41188.000000</td>\n",
       "      <td>41188.000000</td>\n",
       "      <td>41188.000000</td>\n",
       "      <td>41188.000000</td>\n",
       "      <td>41188.000000</td>\n",
       "      <td>41188.000000</td>\n",
       "      <td>41188.000000</td>\n",
       "    </tr>\n",
       "    <tr>\n",
       "      <th>mean</th>\n",
       "      <td>40.02406</td>\n",
       "      <td>258.285010</td>\n",
       "      <td>2.567593</td>\n",
       "      <td>962.475454</td>\n",
       "      <td>0.172963</td>\n",
       "      <td>0.081886</td>\n",
       "      <td>93.575664</td>\n",
       "      <td>-40.502600</td>\n",
       "      <td>3.621291</td>\n",
       "      <td>5167.035911</td>\n",
       "      <td>0.112654</td>\n",
       "    </tr>\n",
       "    <tr>\n",
       "      <th>std</th>\n",
       "      <td>10.42125</td>\n",
       "      <td>259.279249</td>\n",
       "      <td>2.770014</td>\n",
       "      <td>186.910907</td>\n",
       "      <td>0.494901</td>\n",
       "      <td>1.570960</td>\n",
       "      <td>0.578840</td>\n",
       "      <td>4.628198</td>\n",
       "      <td>1.734447</td>\n",
       "      <td>72.251528</td>\n",
       "      <td>0.316173</td>\n",
       "    </tr>\n",
       "    <tr>\n",
       "      <th>min</th>\n",
       "      <td>17.00000</td>\n",
       "      <td>0.000000</td>\n",
       "      <td>1.000000</td>\n",
       "      <td>0.000000</td>\n",
       "      <td>0.000000</td>\n",
       "      <td>-3.400000</td>\n",
       "      <td>92.201000</td>\n",
       "      <td>-50.800000</td>\n",
       "      <td>0.634000</td>\n",
       "      <td>4963.600000</td>\n",
       "      <td>0.000000</td>\n",
       "    </tr>\n",
       "    <tr>\n",
       "      <th>25%</th>\n",
       "      <td>32.00000</td>\n",
       "      <td>102.000000</td>\n",
       "      <td>1.000000</td>\n",
       "      <td>999.000000</td>\n",
       "      <td>0.000000</td>\n",
       "      <td>-1.800000</td>\n",
       "      <td>93.075000</td>\n",
       "      <td>-42.700000</td>\n",
       "      <td>1.344000</td>\n",
       "      <td>5099.100000</td>\n",
       "      <td>0.000000</td>\n",
       "    </tr>\n",
       "    <tr>\n",
       "      <th>50%</th>\n",
       "      <td>38.00000</td>\n",
       "      <td>180.000000</td>\n",
       "      <td>2.000000</td>\n",
       "      <td>999.000000</td>\n",
       "      <td>0.000000</td>\n",
       "      <td>1.100000</td>\n",
       "      <td>93.749000</td>\n",
       "      <td>-41.800000</td>\n",
       "      <td>4.857000</td>\n",
       "      <td>5191.000000</td>\n",
       "      <td>0.000000</td>\n",
       "    </tr>\n",
       "    <tr>\n",
       "      <th>75%</th>\n",
       "      <td>47.00000</td>\n",
       "      <td>319.000000</td>\n",
       "      <td>3.000000</td>\n",
       "      <td>999.000000</td>\n",
       "      <td>0.000000</td>\n",
       "      <td>1.400000</td>\n",
       "      <td>93.994000</td>\n",
       "      <td>-36.400000</td>\n",
       "      <td>4.961000</td>\n",
       "      <td>5228.100000</td>\n",
       "      <td>0.000000</td>\n",
       "    </tr>\n",
       "    <tr>\n",
       "      <th>max</th>\n",
       "      <td>98.00000</td>\n",
       "      <td>4918.000000</td>\n",
       "      <td>56.000000</td>\n",
       "      <td>999.000000</td>\n",
       "      <td>7.000000</td>\n",
       "      <td>1.400000</td>\n",
       "      <td>94.767000</td>\n",
       "      <td>-26.900000</td>\n",
       "      <td>5.045000</td>\n",
       "      <td>5228.100000</td>\n",
       "      <td>1.000000</td>\n",
       "    </tr>\n",
       "  </tbody>\n",
       "</table>\n",
       "</div>"
      ],
      "text/plain": [
       "               age      duration      campaign         pdays      previous  \\\n",
       "count  41188.00000  41188.000000  41188.000000  41188.000000  41188.000000   \n",
       "mean      40.02406    258.285010      2.567593    962.475454      0.172963   \n",
       "std       10.42125    259.279249      2.770014    186.910907      0.494901   \n",
       "min       17.00000      0.000000      1.000000      0.000000      0.000000   \n",
       "25%       32.00000    102.000000      1.000000    999.000000      0.000000   \n",
       "50%       38.00000    180.000000      2.000000    999.000000      0.000000   \n",
       "75%       47.00000    319.000000      3.000000    999.000000      0.000000   \n",
       "max       98.00000   4918.000000     56.000000    999.000000      7.000000   \n",
       "\n",
       "       emp_var_rate  cons_price_idx  cons_conf_idx     euribor3m  \\\n",
       "count  41188.000000    41188.000000   41188.000000  41188.000000   \n",
       "mean       0.081886       93.575664     -40.502600      3.621291   \n",
       "std        1.570960        0.578840       4.628198      1.734447   \n",
       "min       -3.400000       92.201000     -50.800000      0.634000   \n",
       "25%       -1.800000       93.075000     -42.700000      1.344000   \n",
       "50%        1.100000       93.749000     -41.800000      4.857000   \n",
       "75%        1.400000       93.994000     -36.400000      4.961000   \n",
       "max        1.400000       94.767000     -26.900000      5.045000   \n",
       "\n",
       "        nr_employed             y  \n",
       "count  41188.000000  41188.000000  \n",
       "mean    5167.035911      0.112654  \n",
       "std       72.251528      0.316173  \n",
       "min     4963.600000      0.000000  \n",
       "25%     5099.100000      0.000000  \n",
       "50%     5191.000000      0.000000  \n",
       "75%     5228.100000      0.000000  \n",
       "max     5228.100000      1.000000  "
      ]
     },
     "execution_count": 17,
     "metadata": {},
     "output_type": "execute_result"
    }
   ],
   "source": [
    "# Some information about each feature\n",
    "df.describe()"
   ]
  },
  {
   "cell_type": "code",
   "execution_count": 18,
   "id": "854efe06-0cf5-4c67-804a-6e6efcdea47b",
   "metadata": {},
   "outputs": [
    {
     "data": {
      "image/png": "[encoded data removed]",
      "text/plain": [
       "<Figure size 1080x720 with 12 Axes>"
      ]
     },
     "metadata": {},
     "output_type": "display_data"
    }
   ],
   "source": [
    "# This creats histograms for all numerical features\n",
    "df.hist(figsize=(15, 10))\n",
    "None"
   ]
  },
  {
   "cell_type": "code",
   "execution_count": 19,
   "id": "d10631b2-131b-4abe-aff6-b1647f00e2ba",
   "metadata": {},
   "outputs": [
    {
     "data": {
      "text/plain": [
       "job            12\n",
       "marital         4\n",
       "education       8\n",
       "default         3\n",
       "housing         3\n",
       "loan            3\n",
       "contact         2\n",
       "month          10\n",
       "day_of_week     5\n",
       "poutcome        3\n",
       "dtype: int64"
      ]
     },
     "execution_count": 19,
     "metadata": {},
     "output_type": "execute_result"
    }
   ],
   "source": [
    "# Let's check the number of categories per categorical feature\n",
    "df.select_dtypes(include=[\"object\"]).apply(lambda col: len(col.unique()))"
   ]
  },
  {
   "cell_type": "code",
   "execution_count": 20,
   "id": "ce7a958b-6f0b-47c4-9c0b-a0d234d014b7",
   "metadata": {},
   "outputs": [
    {
     "name": "stdout",
     "output_type": "stream",
     "text": [
      "Job categories:\n",
      "['blue-collar' 'technician' 'management' 'services' 'retired' 'admin.'\n",
      " 'housemaid' 'unemployed' 'entrepreneur' 'self-employed' 'unknown'\n",
      " 'student']\n",
      "\n",
      "Month categories:\n",
      "['aug' 'nov' 'jun' 'apr' 'jul' 'may' 'oct' 'mar' 'sep' 'dec']\n",
      "\n",
      "Education categories:\n",
      "['basic.4y' 'unknown' 'university.degree' 'high.school' 'basic.9y'\n",
      " 'professional.course' 'basic.6y' 'illiterate']\n"
     ]
    }
   ],
   "source": [
    "# Take a closer look at features with many categories\n",
    "print(f\"Job categories:\\n{df['job'].unique()}\\n\")\n",
    "print(f\"Month categories:\\n{df['month'].unique()}\\n\")\n",
    "print(f\"Education categories:\\n{df['education'].unique()}\")"
   ]
  },
  {
   "cell_type": "markdown",
   "id": "630ff1f2-20f2-4d57-88cf-337c372d7f92",
   "metadata": {},
   "source": [
    "In general, the categories look pretty clean. For the education categories we can combine the different levels of basic education to reduce the number of categories."
   ]
  },
  {
   "cell_type": "markdown",
   "id": "2f8dd341-fd91-4036-95ad-35e996915c5a",
   "metadata": {},
   "source": [
    "## Data preprocessing"
   ]
  },
  {
   "cell_type": "markdown",
   "id": "aed3db7c-b41a-4077-b2be-d5b16cffb3bb",
   "metadata": {},
   "source": [
    "### Feature extraction "
   ]
  },
  {
   "cell_type": "markdown",
   "id": "4745e2be-8acc-4cb8-86b0-2de0a51ad7b7",
   "metadata": {},
   "source": [
    "Don't use the feature 'duration' for building a model since the description of this feature states: \n",
    "\n",
    "Last contact duration, in seconds (numeric). Important note: this attribute highly affects the output target (e.g., if duration=0 then y='no'). Yet, the duration is not known before a call is performed. Also, after the end of the call y is obviously known. Thus, this input should only be included for benchmark purposes and should be discarded if the intention is to have a realistic predictive model."
   ]
  },
  {
   "cell_type": "code",
   "execution_count": 21,
   "id": "ec89a8e3-607c-4391-8ecd-4e8bd8e6ed8d",
   "metadata": {},
   "outputs": [
    {
     "data": {
      "text/plain": [
       "Index(['age', 'job', 'marital', 'education', 'default', 'housing', 'loan',\n",
       "       'contact', 'month', 'day_of_week', 'duration', 'campaign', 'pdays',\n",
       "       'previous', 'poutcome', 'emp_var_rate', 'cons_price_idx',\n",
       "       'cons_conf_idx', 'euribor3m', 'nr_employed', 'y'],\n",
       "      dtype='object')"
      ]
     },
     "execution_count": 21,
     "metadata": {},
     "output_type": "execute_result"
    }
   ],
   "source": [
    "# check the name of the columns\n",
    "df.columns"
   ]
  },
  {
   "cell_type": "code",
   "execution_count": 22,
   "id": "a253cdb6-9e76-45b7-8b93-70374e29aa9b",
   "metadata": {
    "tags": []
   },
   "outputs": [
    {
     "data": {
      "text/html": [
       "<div>\n",
       "<style scoped>\n",
       "    .dataframe tbody tr th:only-of-type {\n",
       "        vertical-align: middle;\n",
       "    }\n",
       "\n",
       "    .dataframe tbody tr th {\n",
       "        vertical-align: top;\n",
       "    }\n",
       "\n",
       "    .dataframe thead th {\n",
       "        text-align: right;\n",
       "    }\n",
       "</style>\n",
       "<table border=\"1\" class=\"dataframe\">\n",
       "  <thead>\n",
       "    <tr style=\"text-align: right;\">\n",
       "      <th></th>\n",
       "      <th>age</th>\n",
       "      <th>job</th>\n",
       "      <th>marital</th>\n",
       "      <th>education</th>\n",
       "      <th>default</th>\n",
       "      <th>housing</th>\n",
       "      <th>loan</th>\n",
       "      <th>contact</th>\n",
       "      <th>month</th>\n",
       "      <th>day_of_week</th>\n",
       "      <th>campaign</th>\n",
       "      <th>pdays</th>\n",
       "      <th>previous</th>\n",
       "      <th>poutcome</th>\n",
       "      <th>emp_var_rate</th>\n",
       "      <th>cons_price_idx</th>\n",
       "      <th>cons_conf_idx</th>\n",
       "      <th>euribor3m</th>\n",
       "      <th>nr_employed</th>\n",
       "      <th>y</th>\n",
       "    </tr>\n",
       "  </thead>\n",
       "  <tbody>\n",
       "    <tr>\n",
       "      <th>0</th>\n",
       "      <td>44</td>\n",
       "      <td>blue-collar</td>\n",
       "      <td>married</td>\n",
       "      <td>basic.4y</td>\n",
       "      <td>unknown</td>\n",
       "      <td>yes</td>\n",
       "      <td>no</td>\n",
       "      <td>cellular</td>\n",
       "      <td>aug</td>\n",
       "      <td>thu</td>\n",
       "      <td>1</td>\n",
       "      <td>999</td>\n",
       "      <td>0</td>\n",
       "      <td>nonexistent</td>\n",
       "      <td>1.4</td>\n",
       "      <td>93.444</td>\n",
       "      <td>-36.1</td>\n",
       "      <td>4.963</td>\n",
       "      <td>5228.1</td>\n",
       "      <td>0</td>\n",
       "    </tr>\n",
       "    <tr>\n",
       "      <th>1</th>\n",
       "      <td>53</td>\n",
       "      <td>technician</td>\n",
       "      <td>married</td>\n",
       "      <td>unknown</td>\n",
       "      <td>no</td>\n",
       "      <td>no</td>\n",
       "      <td>no</td>\n",
       "      <td>cellular</td>\n",
       "      <td>nov</td>\n",
       "      <td>fri</td>\n",
       "      <td>1</td>\n",
       "      <td>999</td>\n",
       "      <td>0</td>\n",
       "      <td>nonexistent</td>\n",
       "      <td>-0.1</td>\n",
       "      <td>93.200</td>\n",
       "      <td>-42.0</td>\n",
       "      <td>4.021</td>\n",
       "      <td>5195.8</td>\n",
       "      <td>0</td>\n",
       "    </tr>\n",
       "    <tr>\n",
       "      <th>2</th>\n",
       "      <td>28</td>\n",
       "      <td>management</td>\n",
       "      <td>single</td>\n",
       "      <td>university.degree</td>\n",
       "      <td>no</td>\n",
       "      <td>yes</td>\n",
       "      <td>no</td>\n",
       "      <td>cellular</td>\n",
       "      <td>jun</td>\n",
       "      <td>thu</td>\n",
       "      <td>3</td>\n",
       "      <td>6</td>\n",
       "      <td>2</td>\n",
       "      <td>success</td>\n",
       "      <td>-1.7</td>\n",
       "      <td>94.055</td>\n",
       "      <td>-39.8</td>\n",
       "      <td>0.729</td>\n",
       "      <td>4991.6</td>\n",
       "      <td>1</td>\n",
       "    </tr>\n",
       "    <tr>\n",
       "      <th>3</th>\n",
       "      <td>39</td>\n",
       "      <td>services</td>\n",
       "      <td>married</td>\n",
       "      <td>high.school</td>\n",
       "      <td>no</td>\n",
       "      <td>no</td>\n",
       "      <td>no</td>\n",
       "      <td>cellular</td>\n",
       "      <td>apr</td>\n",
       "      <td>fri</td>\n",
       "      <td>2</td>\n",
       "      <td>999</td>\n",
       "      <td>0</td>\n",
       "      <td>nonexistent</td>\n",
       "      <td>-1.8</td>\n",
       "      <td>93.075</td>\n",
       "      <td>-47.1</td>\n",
       "      <td>1.405</td>\n",
       "      <td>5099.1</td>\n",
       "      <td>0</td>\n",
       "    </tr>\n",
       "    <tr>\n",
       "      <th>4</th>\n",
       "      <td>55</td>\n",
       "      <td>retired</td>\n",
       "      <td>married</td>\n",
       "      <td>basic.4y</td>\n",
       "      <td>no</td>\n",
       "      <td>yes</td>\n",
       "      <td>no</td>\n",
       "      <td>cellular</td>\n",
       "      <td>aug</td>\n",
       "      <td>fri</td>\n",
       "      <td>1</td>\n",
       "      <td>3</td>\n",
       "      <td>1</td>\n",
       "      <td>success</td>\n",
       "      <td>-2.9</td>\n",
       "      <td>92.201</td>\n",
       "      <td>-31.4</td>\n",
       "      <td>0.869</td>\n",
       "      <td>5076.2</td>\n",
       "      <td>1</td>\n",
       "    </tr>\n",
       "    <tr>\n",
       "      <th>...</th>\n",
       "      <td>...</td>\n",
       "      <td>...</td>\n",
       "      <td>...</td>\n",
       "      <td>...</td>\n",
       "      <td>...</td>\n",
       "      <td>...</td>\n",
       "      <td>...</td>\n",
       "      <td>...</td>\n",
       "      <td>...</td>\n",
       "      <td>...</td>\n",
       "      <td>...</td>\n",
       "      <td>...</td>\n",
       "      <td>...</td>\n",
       "      <td>...</td>\n",
       "      <td>...</td>\n",
       "      <td>...</td>\n",
       "      <td>...</td>\n",
       "      <td>...</td>\n",
       "      <td>...</td>\n",
       "      <td>...</td>\n",
       "    </tr>\n",
       "    <tr>\n",
       "      <th>41183</th>\n",
       "      <td>59</td>\n",
       "      <td>retired</td>\n",
       "      <td>married</td>\n",
       "      <td>high.school</td>\n",
       "      <td>unknown</td>\n",
       "      <td>no</td>\n",
       "      <td>yes</td>\n",
       "      <td>telephone</td>\n",
       "      <td>jun</td>\n",
       "      <td>thu</td>\n",
       "      <td>1</td>\n",
       "      <td>999</td>\n",
       "      <td>0</td>\n",
       "      <td>nonexistent</td>\n",
       "      <td>1.4</td>\n",
       "      <td>94.465</td>\n",
       "      <td>-41.8</td>\n",
       "      <td>4.866</td>\n",
       "      <td>5228.1</td>\n",
       "      <td>0</td>\n",
       "    </tr>\n",
       "    <tr>\n",
       "      <th>41184</th>\n",
       "      <td>31</td>\n",
       "      <td>housemaid</td>\n",
       "      <td>married</td>\n",
       "      <td>basic.4y</td>\n",
       "      <td>unknown</td>\n",
       "      <td>no</td>\n",
       "      <td>no</td>\n",
       "      <td>telephone</td>\n",
       "      <td>may</td>\n",
       "      <td>thu</td>\n",
       "      <td>2</td>\n",
       "      <td>999</td>\n",
       "      <td>0</td>\n",
       "      <td>nonexistent</td>\n",
       "      <td>1.1</td>\n",
       "      <td>93.994</td>\n",
       "      <td>-36.4</td>\n",
       "      <td>4.860</td>\n",
       "      <td>5191.0</td>\n",
       "      <td>0</td>\n",
       "    </tr>\n",
       "    <tr>\n",
       "      <th>41185</th>\n",
       "      <td>42</td>\n",
       "      <td>admin.</td>\n",
       "      <td>single</td>\n",
       "      <td>university.degree</td>\n",
       "      <td>unknown</td>\n",
       "      <td>yes</td>\n",
       "      <td>yes</td>\n",
       "      <td>telephone</td>\n",
       "      <td>may</td>\n",
       "      <td>wed</td>\n",
       "      <td>3</td>\n",
       "      <td>999</td>\n",
       "      <td>0</td>\n",
       "      <td>nonexistent</td>\n",
       "      <td>1.1</td>\n",
       "      <td>93.994</td>\n",
       "      <td>-36.4</td>\n",
       "      <td>4.857</td>\n",
       "      <td>5191.0</td>\n",
       "      <td>0</td>\n",
       "    </tr>\n",
       "    <tr>\n",
       "      <th>41186</th>\n",
       "      <td>48</td>\n",
       "      <td>technician</td>\n",
       "      <td>married</td>\n",
       "      <td>professional.course</td>\n",
       "      <td>no</td>\n",
       "      <td>no</td>\n",
       "      <td>yes</td>\n",
       "      <td>telephone</td>\n",
       "      <td>oct</td>\n",
       "      <td>tue</td>\n",
       "      <td>2</td>\n",
       "      <td>999</td>\n",
       "      <td>0</td>\n",
       "      <td>nonexistent</td>\n",
       "      <td>-3.4</td>\n",
       "      <td>92.431</td>\n",
       "      <td>-26.9</td>\n",
       "      <td>0.742</td>\n",
       "      <td>5017.5</td>\n",
       "      <td>0</td>\n",
       "    </tr>\n",
       "    <tr>\n",
       "      <th>41187</th>\n",
       "      <td>25</td>\n",
       "      <td>student</td>\n",
       "      <td>single</td>\n",
       "      <td>high.school</td>\n",
       "      <td>no</td>\n",
       "      <td>no</td>\n",
       "      <td>no</td>\n",
       "      <td>telephone</td>\n",
       "      <td>may</td>\n",
       "      <td>fri</td>\n",
       "      <td>4</td>\n",
       "      <td>999</td>\n",
       "      <td>0</td>\n",
       "      <td>nonexistent</td>\n",
       "      <td>1.1</td>\n",
       "      <td>93.994</td>\n",
       "      <td>-36.4</td>\n",
       "      <td>4.859</td>\n",
       "      <td>5191.0</td>\n",
       "      <td>0</td>\n",
       "    </tr>\n",
       "  </tbody>\n",
       "</table>\n",
       "<p>41188 rows × 20 columns</p>\n",
       "</div>"
      ],
      "text/plain": [
       "       age          job  marital            education  default housing loan  \\\n",
       "0       44  blue-collar  married             basic.4y  unknown     yes   no   \n",
       "1       53   technician  married              unknown       no      no   no   \n",
       "2       28   management   single    university.degree       no     yes   no   \n",
       "3       39     services  married          high.school       no      no   no   \n",
       "4       55      retired  married             basic.4y       no     yes   no   \n",
       "...    ...          ...      ...                  ...      ...     ...  ...   \n",
       "41183   59      retired  married          high.school  unknown      no  yes   \n",
       "41184   31    housemaid  married             basic.4y  unknown      no   no   \n",
       "41185   42       admin.   single    university.degree  unknown     yes  yes   \n",
       "41186   48   technician  married  professional.course       no      no  yes   \n",
       "41187   25      student   single          high.school       no      no   no   \n",
       "\n",
       "         contact month day_of_week  campaign  pdays  previous     poutcome  \\\n",
       "0       cellular   aug         thu         1    999         0  nonexistent   \n",
       "1       cellular   nov         fri         1    999         0  nonexistent   \n",
       "2       cellular   jun         thu         3      6         2      success   \n",
       "3       cellular   apr         fri         2    999         0  nonexistent   \n",
       "4       cellular   aug         fri         1      3         1      success   \n",
       "...          ...   ...         ...       ...    ...       ...          ...   \n",
       "41183  telephone   jun         thu         1    999         0  nonexistent   \n",
       "41184  telephone   may         thu         2    999         0  nonexistent   \n",
       "41185  telephone   may         wed         3    999         0  nonexistent   \n",
       "41186  telephone   oct         tue         2    999         0  nonexistent   \n",
       "41187  telephone   may         fri         4    999         0  nonexistent   \n",
       "\n",
       "       emp_var_rate  cons_price_idx  cons_conf_idx  euribor3m  nr_employed  y  \n",
       "0               1.4          93.444          -36.1      4.963       5228.1  0  \n",
       "1              -0.1          93.200          -42.0      4.021       5195.8  0  \n",
       "2              -1.7          94.055          -39.8      0.729       4991.6  1  \n",
       "3              -1.8          93.075          -47.1      1.405       5099.1  0  \n",
       "4              -2.9          92.201          -31.4      0.869       5076.2  1  \n",
       "...             ...             ...            ...        ...          ... ..  \n",
       "41183           1.4          94.465          -41.8      4.866       5228.1  0  \n",
       "41184           1.1          93.994          -36.4      4.860       5191.0  0  \n",
       "41185           1.1          93.994          -36.4      4.857       5191.0  0  \n",
       "41186          -3.4          92.431          -26.9      0.742       5017.5  0  \n",
       "41187           1.1          93.994          -36.4      4.859       5191.0  0  \n",
       "\n",
       "[41188 rows x 20 columns]"
      ]
     },
     "execution_count": 22,
     "metadata": {},
     "output_type": "execute_result"
    }
   ],
   "source": [
    "# get features and corresponding outcomes\n",
    "df_clean = df.drop(columns=[\"duration\"])\n",
    "df_clean"
   ]
  },
  {
   "cell_type": "markdown",
   "id": "d2f711f3-6603-4bca-baf3-a0ebcf7f6790",
   "metadata": {},
   "source": [
    "### Train-Test Split"
   ]
  },
  {
   "cell_type": "markdown",
   "id": "aa4ebdf4-703f-4ff6-a0cc-ad585ec04679",
   "metadata": {},
   "source": [
    "We separate the dataset into train and test as follows in order to perform sampling later.   \n",
    "Taking sample from the whole dataset (with 'y' included) is easier than taking it separately from X_train and y_train.  "
   ]
  },
  {
   "cell_type": "code",
   "execution_count": 23,
   "id": "a993f925-9852-41bd-9318-552ad554bf52",
   "metadata": {},
   "outputs": [],
   "source": [
    "X = df_clean.iloc[:, :-1]\n",
    "y = df_clean[\"y\"]\n",
    "\n",
    "X_train, X_test, y_train, y_test = train_test_split(\n",
    "    X, y, test_size=0.2, random_state=19\n",
    ")"
   ]
  },
  {
   "cell_type": "markdown",
   "id": "37057d19-dd9d-41b7-bf28-2888150c7d78",
   "metadata": {},
   "source": [
    "### Split numerical and categorical features\n",
    "For data preprocessing we have to separate numerical and categorical features. Different preprocessing steps are required for both type of features."
   ]
  },
  {
   "cell_type": "code",
   "execution_count": 24,
   "id": "feac6670-2f87-48d9-a591-0cd1f323ded7",
   "metadata": {},
   "outputs": [
    {
     "data": {
      "text/plain": [
       "(Index(['job', 'marital', 'education', 'default', 'housing', 'loan', 'contact',\n",
       "        'month', 'day_of_week', 'poutcome'],\n",
       "       dtype='object'),\n",
       " Index(['age', 'campaign', 'pdays', 'previous', 'emp_var_rate',\n",
       "        'cons_price_idx', 'cons_conf_idx', 'euribor3m', 'nr_employed'],\n",
       "       dtype='object'))"
      ]
     },
     "execution_count": 24,
     "metadata": {},
     "output_type": "execute_result"
    }
   ],
   "source": [
    "categorical_features = df_clean.iloc[:, list(np.where(X.dtypes == \"object\")[0])].columns\n",
    "numerical_features = df_clean.iloc[:, list(np.where(X.dtypes != \"object\")[0])].columns\n",
    "categorical_features, numerical_features"
   ]
  },
  {
   "cell_type": "markdown",
   "id": "576fd9a3-25a8-4355-af29-ac4abe0d9304",
   "metadata": {
    "tags": []
   },
   "source": [
    "### Scaling and encoding using a scikit-learn pipeline"
   ]
  },
  {
   "cell_type": "markdown",
   "id": "44643ea8-ebf7-4ce6-b0c9-d04b411fdc43",
   "metadata": {},
   "source": [
    "Here we show how to apply different preprocessing and feature extraction pipelines for the case of dataset that contain heterogeneous data types, since we may want to **scale** the numeric features and **one-hot encode** the categorical ones.\n",
    "\n",
    "Finally, the preprocessing pipeline is integrated in a full prediction pipeline using sklearn.pipeline.Pipeline, together with the specific ml model."
   ]
  },
  {
   "cell_type": "code",
   "execution_count": 25,
   "id": "a17421de-281b-46e7-abab-924aaed7a893",
   "metadata": {},
   "outputs": [],
   "source": [
    "# The numeric data is standard-scaled\n",
    "numerical_transformer = Pipeline(steps=[(\"scaler\", StandardScaler())])\n",
    "\n",
    "# while the categorical data is one-hot encoded\n",
    "categorical_transformer = Pipeline(\n",
    "    steps=[(\"onehot\", OneHotEncoder(handle_unknown=\"ignore\"))]\n",
    ")\n",
    "\n",
    "# The column transformer allows to apply different preprocessing steps for individual sets of columns\n",
    "# transformers must support fit and transform.\n",
    "# Special-cased strings ‘drop’ and ‘passthrough’ are accepted as well, to indicate to drop the columns or to pass them through untransformed, respectively.\n",
    "preprocessor = ColumnTransformer(\n",
    "    transformers=[\n",
    "        (\"num\", numerical_transformer, numerical_features),\n",
    "        (\"cat\", categorical_transformer, categorical_features),\n",
    "    ]\n",
    ")"
   ]
  },
  {
   "cell_type": "markdown",
   "id": "f8df37d2-e5ac-4457-a543-22e7ffd9770f",
   "metadata": {},
   "source": [
    "## Logistic Regression\n",
    "\n",
    "Let's compare how Logistic Regression with no penalty, L1 and L2 penalties works"
   ]
  },
  {
   "cell_type": "markdown",
   "id": "9909ee6f-de35-4c1f-81d9-5fcec43b0e88",
   "metadata": {},
   "source": [
    "### No penalty "
   ]
  },
  {
   "cell_type": "code",
   "execution_count": 26,
   "id": "9dedb3cb-657f-4d31-bb25-866c253d3083",
   "metadata": {},
   "outputs": [],
   "source": [
    "# We use in this case solver = 'lbfgs' because it works for no penalty Logistic Regression\n",
    "model_0 = LogisticRegression(\n",
    "    class_weight=\"balanced\", solver=\"lbfgs\", penalty=\"none\", max_iter=1000\n",
    ")\n",
    "\n",
    "#  implement pipeline\n",
    "pipeline_nopenality = Pipeline(\n",
    "    steps=[(\"preprocessor\", preprocessor), (\"classifier\", model_0)]\n",
    ")"
   ]
  },
  {
   "cell_type": "code",
   "execution_count": 51,
   "id": "3f5c396e-0c35-4eee-875c-391bd0fd4424",
   "metadata": {},
   "outputs": [
    {
     "name": "stdout",
     "output_type": "stream",
     "text": [
      "[0.44654683 0.41737488 0.41803279 0.46047431 0.43592331 0.47884615\n",
      " 0.44015444 0.46153846 0.44759207 0.46692607]\n"
     ]
    }
   ],
   "source": [
    "# check the cross validation score\n",
    "lr_nopenalty_scores_f1 = cross_val_score(\n",
    "    pipeline_nopenality, X_train, y_train, cv=10, scoring=\"f1\"\n",
    ")\n",
    "print(lr_nopenalty_scores_f1)\n",
    "lr_nopenalty_score_f1 = np.mean(lr_nopenalty_scores_f1)"
   ]
  },
  {
   "cell_type": "markdown",
   "id": "2cc4909f-8f93-4daf-9d06-1bc53b2987b9",
   "metadata": {},
   "source": [
    "### L1 Cross-Validation"
   ]
  },
  {
   "cell_type": "code",
   "execution_count": 30,
   "id": "b3518cdb-f1c7-4a53-83ca-c7c56730abb8",
   "metadata": {},
   "outputs": [],
   "source": [
    "# We are going to apply different alpha values to the L1 and L2 penalties\n",
    "# That's why we have to define it firstly\n",
    "alphas = [0.0001, 0.001, 0.01, 0.1, 1, 10, 100, 1000]\n",
    "\n",
    "score_df_f1 = pd.DataFrame()\n",
    "score_df_f1[\"alpha\"] = alphas"
   ]
  },
  {
   "cell_type": "code",
   "execution_count": 31,
   "id": "f7d18efd-4bde-48c0-b991-1dc2218d92e3",
   "metadata": {},
   "outputs": [],
   "source": [
    "model_l1 = LogisticRegression(\n",
    "    class_weight=\"balanced\", penalty=\"l1\", solver=\"liblinear\", max_iter=1000\n",
    ")\n",
    "pipeline_l1 = Pipeline(steps=[(\"preprocessor\", preprocessor), (\"classifier\", model_l1)])"
   ]
  },
  {
   "cell_type": "code",
   "execution_count": 41,
   "id": "0965ee48-688f-4a6c-a6fd-43228574bc17",
   "metadata": {},
   "outputs": [
    {
     "name": "stdout",
     "output_type": "stream",
     "text": [
      "0.0001 - [0.42879499 0.44798725 0.4607806  0.45534017]\n",
      "0.001 - [0.42879499 0.44798725 0.4607806  0.45534017]\n",
      "0.01 - [0.42879499 0.44798725 0.46060606 0.45534017]\n",
      "0.1 - [0.42896282 0.44798725 0.4607806  0.45575389]\n",
      "1 - [0.4297456  0.44780876 0.46142209 0.45582101]\n",
      "10 - [0.42829382 0.4429583  0.46038303 0.45677614]\n",
      "100 - [0.42988414 0.43372549 0.45839753 0.45047081]\n",
      "1000 - [0.35271944 0.35633139 0.37069922 0.36858006]\n"
     ]
    }
   ],
   "source": [
    "scores_l1 = []\n",
    "for alpha in alphas:\n",
    "    pipeline_l1.set_params(classifier__C=1 / alpha)\n",
    "    scores = cross_val_score(pipeline_l1, X_train, y_train, cv=4, scoring=\"f1\")\n",
    "\n",
    "    print(alpha, \"-\", scores)\n",
    "    score = np.mean(scores)\n",
    "\n",
    "    scores_l1.append(score)\n",
    "\n",
    "score_df_f1[\"L1\"] = scores_l1"
   ]
  },
  {
   "cell_type": "markdown",
   "id": "32d02588-91e5-4d99-a18e-3e90055edca5",
   "metadata": {},
   "source": [
    "### L2 Cross-Validation"
   ]
  },
  {
   "cell_type": "code",
   "execution_count": 42,
   "id": "ad1721f4-76f4-4a01-90f2-49299014d520",
   "metadata": {},
   "outputs": [],
   "source": [
    "model_l2 = LogisticRegression(class_weight=\"balanced\", penalty=\"l2\", solver=\"liblinear\")\n",
    "pipeline_l2 = Pipeline(steps=[(\"preprocessor\", preprocessor), (\"classifier\", model_l2)])"
   ]
  },
  {
   "cell_type": "code",
   "execution_count": 43,
   "id": "10943aab-0b3e-4eab-80cf-7032b5bfb5f5",
   "metadata": {},
   "outputs": [
    {
     "name": "stdout",
     "output_type": "stream",
     "text": [
      "0.0001 - [0.42879499 0.44798725 0.4607806  0.45534017]\n",
      "0.001 - [0.42879499 0.44798725 0.4607806  0.45534017]\n",
      "0.01 - [0.42879499 0.44798725 0.4607806  0.45534017]\n",
      "0.1 - [0.42879499 0.44798725 0.46060606 0.45592705]\n",
      "1 - [0.42924159 0.44780876 0.46089913 0.4549943 ]\n",
      "10 - [0.42647059 0.44453186 0.45905334 0.45557229]\n",
      "100 - [0.4183252  0.42976462 0.44897959 0.44638313]\n",
      "1000 - [0.39216966 0.39130435 0.41289915 0.40689875]\n"
     ]
    }
   ],
   "source": [
    "scores_l2 = []\n",
    "for alpha in alphas:\n",
    "    pipeline_l2.set_params(classifier__C=1 / alpha)\n",
    "    scores = cross_val_score(pipeline_l2, X_train, y_train, cv=4, scoring=\"f1\")\n",
    "\n",
    "    print(alpha, \"-\", scores)\n",
    "    score = np.mean(scores)\n",
    "\n",
    "    scores_l2.append(score)\n",
    "\n",
    "score_df_f1[\"L2\"] = scores_l2"
   ]
  },
  {
   "cell_type": "code",
   "execution_count": 45,
   "id": "d53a528f-eebf-48b9-8d5d-29a04420319b",
   "metadata": {},
   "outputs": [
    {
     "data": {
      "text/html": [
       "<div>\n",
       "<style scoped>\n",
       "    .dataframe tbody tr th:only-of-type {\n",
       "        vertical-align: middle;\n",
       "    }\n",
       "\n",
       "    .dataframe tbody tr th {\n",
       "        vertical-align: top;\n",
       "    }\n",
       "\n",
       "    .dataframe thead th {\n",
       "        text-align: right;\n",
       "    }\n",
       "</style>\n",
       "<table border=\"1\" class=\"dataframe\">\n",
       "  <thead>\n",
       "    <tr style=\"text-align: right;\">\n",
       "      <th></th>\n",
       "      <th>alpha</th>\n",
       "      <th>L1</th>\n",
       "      <th>L2</th>\n",
       "    </tr>\n",
       "  </thead>\n",
       "  <tbody>\n",
       "    <tr>\n",
       "      <th>0</th>\n",
       "      <td>0.0001</td>\n",
       "      <td>0.448226</td>\n",
       "      <td>0.448226</td>\n",
       "    </tr>\n",
       "    <tr>\n",
       "      <th>1</th>\n",
       "      <td>0.0010</td>\n",
       "      <td>0.448226</td>\n",
       "      <td>0.448226</td>\n",
       "    </tr>\n",
       "    <tr>\n",
       "      <th>2</th>\n",
       "      <td>0.0100</td>\n",
       "      <td>0.448182</td>\n",
       "      <td>0.448226</td>\n",
       "    </tr>\n",
       "    <tr>\n",
       "      <th>3</th>\n",
       "      <td>0.1000</td>\n",
       "      <td>0.448371</td>\n",
       "      <td>0.448329</td>\n",
       "    </tr>\n",
       "    <tr>\n",
       "      <th>4</th>\n",
       "      <td>1.0000</td>\n",
       "      <td>0.448699</td>\n",
       "      <td>0.448236</td>\n",
       "    </tr>\n",
       "    <tr>\n",
       "      <th>5</th>\n",
       "      <td>10.0000</td>\n",
       "      <td>0.447103</td>\n",
       "      <td>0.446407</td>\n",
       "    </tr>\n",
       "    <tr>\n",
       "      <th>6</th>\n",
       "      <td>100.0000</td>\n",
       "      <td>0.443119</td>\n",
       "      <td>0.435863</td>\n",
       "    </tr>\n",
       "    <tr>\n",
       "      <th>7</th>\n",
       "      <td>1000.0000</td>\n",
       "      <td>0.362083</td>\n",
       "      <td>0.400818</td>\n",
       "    </tr>\n",
       "  </tbody>\n",
       "</table>\n",
       "</div>"
      ],
      "text/plain": [
       "       alpha        L1        L2\n",
       "0     0.0001  0.448226  0.448226\n",
       "1     0.0010  0.448226  0.448226\n",
       "2     0.0100  0.448182  0.448226\n",
       "3     0.1000  0.448371  0.448329\n",
       "4     1.0000  0.448699  0.448236\n",
       "5    10.0000  0.447103  0.446407\n",
       "6   100.0000  0.443119  0.435863\n",
       "7  1000.0000  0.362083  0.400818"
      ]
     },
     "execution_count": 45,
     "metadata": {},
     "output_type": "execute_result"
    }
   ],
   "source": [
    "score_df_f1"
   ]
  },
  {
   "cell_type": "code",
   "execution_count": 46,
   "id": "00864815-b83f-4e11-9c6b-0827c91357c4",
   "metadata": {},
   "outputs": [
    {
     "data": {
      "text/html": [
       "<div>\n",
       "<style scoped>\n",
       "    .dataframe tbody tr th:only-of-type {\n",
       "        vertical-align: middle;\n",
       "    }\n",
       "\n",
       "    .dataframe tbody tr th {\n",
       "        vertical-align: top;\n",
       "    }\n",
       "\n",
       "    .dataframe thead th {\n",
       "        text-align: right;\n",
       "    }\n",
       "</style>\n",
       "<table border=\"1\" class=\"dataframe\">\n",
       "  <thead>\n",
       "    <tr style=\"text-align: right;\">\n",
       "      <th></th>\n",
       "      <th>alpha</th>\n",
       "      <th>L1</th>\n",
       "      <th>L2</th>\n",
       "    </tr>\n",
       "  </thead>\n",
       "  <tbody>\n",
       "    <tr>\n",
       "      <th>count</th>\n",
       "      <td>8.000000</td>\n",
       "      <td>8.000000</td>\n",
       "      <td>8.000000</td>\n",
       "    </tr>\n",
       "    <tr>\n",
       "      <th>mean</th>\n",
       "      <td>138.888888</td>\n",
       "      <td>0.436751</td>\n",
       "      <td>0.440541</td>\n",
       "    </tr>\n",
       "    <tr>\n",
       "      <th>std</th>\n",
       "      <td>349.648809</td>\n",
       "      <td>0.030225</td>\n",
       "      <td>0.016610</td>\n",
       "    </tr>\n",
       "    <tr>\n",
       "      <th>min</th>\n",
       "      <td>0.000100</td>\n",
       "      <td>0.362083</td>\n",
       "      <td>0.400818</td>\n",
       "    </tr>\n",
       "    <tr>\n",
       "      <th>25%</th>\n",
       "      <td>0.007750</td>\n",
       "      <td>0.446107</td>\n",
       "      <td>0.443771</td>\n",
       "    </tr>\n",
       "    <tr>\n",
       "      <th>50%</th>\n",
       "      <td>0.550000</td>\n",
       "      <td>0.448204</td>\n",
       "      <td>0.448226</td>\n",
       "    </tr>\n",
       "    <tr>\n",
       "      <th>75%</th>\n",
       "      <td>32.500000</td>\n",
       "      <td>0.448262</td>\n",
       "      <td>0.448228</td>\n",
       "    </tr>\n",
       "    <tr>\n",
       "      <th>max</th>\n",
       "      <td>1000.000000</td>\n",
       "      <td>0.448699</td>\n",
       "      <td>0.448329</td>\n",
       "    </tr>\n",
       "  </tbody>\n",
       "</table>\n",
       "</div>"
      ],
      "text/plain": [
       "             alpha        L1        L2\n",
       "count     8.000000  8.000000  8.000000\n",
       "mean    138.888888  0.436751  0.440541\n",
       "std     349.648809  0.030225  0.016610\n",
       "min       0.000100  0.362083  0.400818\n",
       "25%       0.007750  0.446107  0.443771\n",
       "50%       0.550000  0.448204  0.448226\n",
       "75%      32.500000  0.448262  0.448228\n",
       "max    1000.000000  0.448699  0.448329"
      ]
     },
     "execution_count": 46,
     "metadata": {},
     "output_type": "execute_result"
    }
   ],
   "source": [
    "score_df_f1.describe()"
   ]
  },
  {
   "cell_type": "markdown",
   "id": "fd5cef3a-d005-418d-9b49-6abf5e381657",
   "metadata": {},
   "source": [
    "Select the best model by comparing 'f1' score.\n",
    "You can also try different scoring parameter"
   ]
  },
  {
   "cell_type": "code",
   "execution_count": 47,
   "id": "1ebf5467-36c5-4f90-be5a-a2462a773f54",
   "metadata": {},
   "outputs": [
    {
     "data": {
      "text/plain": [
       "0    0.448226\n",
       "1    0.448226\n",
       "2    0.448182\n",
       "3    0.448371\n",
       "4    0.448699\n",
       "5    0.447103\n",
       "6    0.443119\n",
       "7    0.362083\n",
       "Name: L1, dtype: float64"
      ]
     },
     "execution_count": 47,
     "metadata": {},
     "output_type": "execute_result"
    }
   ],
   "source": [
    "score_df_f1[\"L1\"]"
   ]
  },
  {
   "cell_type": "code",
   "execution_count": 49,
   "id": "ad9fd8d5-24b2-45fa-9211-5cde5933b136",
   "metadata": {},
   "outputs": [
    {
     "data": {
      "text/plain": [
       "array([0.44654683, 0.41737488, 0.41803279, 0.46047431, 0.43592331,\n",
       "       0.47884615, 0.44015444, 0.46153846, 0.44759207, 0.46692607])"
      ]
     },
     "execution_count": 49,
     "metadata": {},
     "output_type": "execute_result"
    }
   ],
   "source": [
    "lr_nopenalty_score_f1"
   ]
  },
  {
   "cell_type": "code",
   "execution_count": 52,
   "id": "2a4f881d-dc71-4687-8e17-ca30e69889bc",
   "metadata": {},
   "outputs": [
    {
     "data": {
      "text/plain": [
       "Text(0, 0.5, 'f1 score')"
      ]
     },
     "execution_count": 52,
     "metadata": {},
     "output_type": "execute_result"
    },
    {
     "data": {
      "image/png": "[encoded data removed]",
      "text/plain": [
       "<Figure size 576x396 with 1 Axes>"
      ]
     },
     "metadata": {},
     "output_type": "display_data"
    }
   ],
   "source": [
    "# Lasso\n",
    "plt.semilogx(score_df_f1[\"alpha\"], score_df_f1[\"L1\"], color=\"blue\", label=\"L1 (Lasso)\")\n",
    "\n",
    "# Ridge\n",
    "plt.semilogx(score_df_f1[\"alpha\"], score_df_f1[\"L2\"], color=\"red\", label=\"L2 (Ridge)\")\n",
    "plt.scatter(x=alphas[0], y=lr_nopenalty_score_f1, color=\"black\")\n",
    "plt.title(\"f1 score vs alpha\")\n",
    "plt.xlabel(\"alpha\")\n",
    "plt.legend()\n",
    "plt.ylabel(\"f1 score\")"
   ]
  },
  {
   "cell_type": "markdown",
   "id": "a1ed329f-93cf-4171-958f-fb950b977e02",
   "metadata": {},
   "source": [
    "Let's find out the maximum score and the best penalty"
   ]
  },
  {
   "cell_type": "code",
   "execution_count": 53,
   "id": "55d59329-b19e-4630-8ab9-da1bc0e455ca",
   "metadata": {},
   "outputs": [
    {
     "data": {
      "text/plain": [
       "(0.44869936456924897, 0.44832883759194353, 0.4473409311157277)"
      ]
     },
     "execution_count": 53,
     "metadata": {},
     "output_type": "execute_result"
    }
   ],
   "source": [
    "score_df_f1.L1.max(), score_df_f1.L2.max(), lr_nopenalty_score_f1"
   ]
  },
  {
   "cell_type": "markdown",
   "id": "38534170-62d5-4237-a3b8-8f06066f4bf5",
   "metadata": {},
   "source": [
    "Another way to check for the best score"
   ]
  },
  {
   "cell_type": "code",
   "execution_count": 54,
   "id": "04921e55-99ea-4be1-806a-00e0e2dbe35f",
   "metadata": {},
   "outputs": [
    {
     "data": {
      "text/html": [
       "<div>\n",
       "<style scoped>\n",
       "    .dataframe tbody tr th:only-of-type {\n",
       "        vertical-align: middle;\n",
       "    }\n",
       "\n",
       "    .dataframe tbody tr th {\n",
       "        vertical-align: top;\n",
       "    }\n",
       "\n",
       "    .dataframe thead th {\n",
       "        text-align: right;\n",
       "    }\n",
       "</style>\n",
       "<table border=\"1\" class=\"dataframe\">\n",
       "  <thead>\n",
       "    <tr style=\"text-align: right;\">\n",
       "      <th></th>\n",
       "      <th>alpha</th>\n",
       "      <th>L1</th>\n",
       "      <th>L2</th>\n",
       "    </tr>\n",
       "  </thead>\n",
       "  <tbody>\n",
       "    <tr>\n",
       "      <th>4</th>\n",
       "      <td>1.0</td>\n",
       "      <td>0.448699</td>\n",
       "      <td>0.448236</td>\n",
       "    </tr>\n",
       "  </tbody>\n",
       "</table>\n",
       "</div>"
      ],
      "text/plain": [
       "   alpha        L1        L2\n",
       "4    1.0  0.448699  0.448236"
      ]
     },
     "execution_count": 54,
     "metadata": {},
     "output_type": "execute_result"
    }
   ],
   "source": [
    "score_df_f1.iloc[[score_df_f1.drop(columns=[\"alpha\"]).stack().idxmax()[0]]]"
   ]
  },
  {
   "cell_type": "code",
   "execution_count": 55,
   "id": "1826feeb-adac-4dbc-b935-4d2d9b827bd7",
   "metadata": {},
   "outputs": [
    {
     "name": "stdout",
     "output_type": "stream",
     "text": [
      "The best alpha and penalty are 1.0 and L1\n"
     ]
    }
   ],
   "source": [
    "best_alpha = score_df_f1.iloc[\n",
    "    [score_df_f1.drop(columns=[\"alpha\"]).stack().idxmax()[0]]\n",
    "].alpha.values[0]\n",
    "best_penalty = [score_df_f1.drop(columns=[\"alpha\"]).stack().idxmax()][0][1]\n",
    "print(\"The best alpha and penalty are {} and {}\".format(best_alpha, best_penalty))"
   ]
  },
  {
   "cell_type": "markdown",
   "id": "3c1b5df7-81a7-46f4-802a-cbeceb53b0e3",
   "metadata": {},
   "source": [
    "### Modeling with the best selected model (Logisic Regression)"
   ]
  },
  {
   "cell_type": "code",
   "execution_count": 59,
   "id": "fb22bd72-842f-47c8-8542-2195d628c861",
   "metadata": {},
   "outputs": [
    {
     "data": {
      "text/plain": [
       "Pipeline(steps=[('preprocessor',\n",
       "                 ColumnTransformer(transformers=[('num',\n",
       "                                                  Pipeline(steps=[('scaler',\n",
       "                                                                   StandardScaler())]),\n",
       "                                                  Index(['age', 'campaign', 'pdays', 'previous', 'emp_var_rate',\n",
       "       'cons_price_idx', 'cons_conf_idx', 'euribor3m', 'nr_employed'],\n",
       "      dtype='object')),\n",
       "                                                 ('cat',\n",
       "                                                  Pipeline(steps=[('onehot',\n",
       "                                                                   OneHotEncoder(handle_unknown='ignore'))]),\n",
       "                                                  Index(['job', 'marital', 'education', 'default', 'housing', 'loan', 'contact',\n",
       "       'month', 'day_of_week', 'poutcome'],\n",
       "      dtype='object'))])),\n",
       "                ('classifier',\n",
       "                 LogisticRegression(class_weight='balanced', max_iter=1000,\n",
       "                                    penalty='l1', solver='liblinear'))])"
      ]
     },
     "execution_count": 59,
     "metadata": {},
     "output_type": "execute_result"
    }
   ],
   "source": [
    "pipeline_best_model = pipeline_l1.set_params(\n",
    "    classifier__C=1 / best_alpha, classifier__penalty=best_penalty.lower()\n",
    ")\n",
    "\n",
    "# fit and view model parameters\n",
    "pipeline_best_model.fit(X_train, np.ravel(y_train))"
   ]
  },
  {
   "cell_type": "markdown",
   "id": "bf35645c-2025-4f07-86bb-31b5225a54ec",
   "metadata": {},
   "source": [
    "Predictions with the best model"
   ]
  },
  {
   "cell_type": "code",
   "execution_count": 60,
   "id": "17fa816c-2310-4cac-b720-7d34ffbbb5ab",
   "metadata": {},
   "outputs": [],
   "source": [
    "predictions_train = pipeline_best_model.predict_proba(X_train)[:, 1]\n",
    "predictions_test = pipeline_best_model.predict_proba(X_test)[:, 1]\n",
    "fpr_train, tpr_train, _ = metrics.roc_curve(y_train, predictions_train)\n",
    "fpr_test, tpr_test, _ = metrics.roc_curve(y_test, predictions_test)"
   ]
  },
  {
   "cell_type": "code",
   "execution_count": 62,
   "id": "bf415856-539d-4297-a025-f6f74bfdbc1f",
   "metadata": {},
   "outputs": [],
   "source": [
    "scores = []\n",
    "\n",
    "pred_lr = pipeline_best_model.predict(X_test)\n",
    "scores.append(f1_score(y_test, pred_lr))"
   ]
  },
  {
   "cell_type": "markdown",
   "id": "1c998006-5a7e-402b-bbea-867920ef2c07",
   "metadata": {},
   "source": [
    "### Plotting"
   ]
  },
  {
   "cell_type": "markdown",
   "id": "1f76b699-ad71-49ab-a70f-9e3c9612ff69",
   "metadata": {},
   "source": [
    "A ROC curve is considered to be good if it is closer to the top left corner, and the straight line connecting (0,0) and (1,1) represents a random classier with even odds.\n",
    "\n",
    "The advantage of using ROC is that one can visually see for what region a model is more superior compare to another."
   ]
  },
  {
   "cell_type": "code",
   "execution_count": 63,
   "id": "8bcc3958-4ade-438e-bef0-cc45936352fb",
   "metadata": {},
   "outputs": [
    {
     "data": {
      "image/png": "[encoded data removed]",
      "text/plain": [
       "<Figure size 576x396 with 1 Axes>"
      ]
     },
     "metadata": {},
     "output_type": "display_data"
    }
   ],
   "source": [
    "plt.plot(fpr_train, tpr_train, \"b\", linewidth=2, markersize=4, label=\"Train_best\")\n",
    "plt.plot(fpr_test, tpr_test, \"r\", linewidth=2, markersize=4, label=\"Test_best\")\n",
    "\n",
    "plt.xlabel(\"fpr\")\n",
    "plt.legend()\n",
    "plt.ylabel(\"tpr\")\n",
    "plt.ylim([0.0, 1.05])\n",
    "plt.xlim([0.0, 1.0])\n",
    "plt.title(\"ROC curve\")\n",
    "None"
   ]
  },
  {
   "cell_type": "markdown",
   "id": "59790abf-c7ef-4b80-80ec-965a8cfac79b",
   "metadata": {
    "id": "EGwWkx6Kgx9r"
   },
   "source": [
    "## KNN"
   ]
  },
  {
   "cell_type": "code",
   "execution_count": 64,
   "id": "0677b587-9e6a-48f9-945d-48e5e6e9a508",
   "metadata": {
    "colab": {
     "base_uri": "https://localhost:8080/"
    },
    "id": "Z8SQxi8Pgx9r",
    "outputId": "b8241a7e-60ae-413f-bfa2-276385291ad0"
   },
   "outputs": [
    {
     "data": {
      "text/plain": [
       "KNeighborsClassifier()"
      ]
     },
     "execution_count": 64,
     "metadata": {},
     "output_type": "execute_result"
    }
   ],
   "source": [
    "knn = KNeighborsClassifier()\n",
    "knn"
   ]
  },
  {
   "cell_type": "code",
   "execution_count": 65,
   "id": "a56d43d9-c6ac-4a6f-9e95-d6485988cad5",
   "metadata": {
    "id": "6GjWCYHd-Z_H"
   },
   "outputs": [],
   "source": [
    "pipeline_knn = Pipeline([(\"col_transformer\", preprocessor), (\"estimator\", knn)])"
   ]
  },
  {
   "cell_type": "code",
   "execution_count": 67,
   "id": "01ec589f-bc7e-46de-ab25-052791339cf4",
   "metadata": {
    "colab": {
     "base_uri": "https://localhost:8080/"
    },
    "id": "jdQUamn33Lvi",
    "outputId": "a5a12983-a6d6-4d20-a680-4ffc0fd56717"
   },
   "outputs": [
    {
     "data": {
      "text/plain": [
       "Pipeline(steps=[('col_transformer',\n",
       "                 ColumnTransformer(transformers=[('num',\n",
       "                                                  Pipeline(steps=[('scaler',\n",
       "                                                                   StandardScaler())]),\n",
       "                                                  Index(['age', 'campaign', 'pdays', 'previous', 'emp_var_rate',\n",
       "       'cons_price_idx', 'cons_conf_idx', 'euribor3m', 'nr_employed'],\n",
       "      dtype='object')),\n",
       "                                                 ('cat',\n",
       "                                                  Pipeline(steps=[('onehot',\n",
       "                                                                   OneHotEncoder(handle_unknown='ignore'))]),\n",
       "                                                  Index(['job', 'marital', 'education', 'default', 'housing', 'loan', 'contact',\n",
       "       'month', 'day_of_week', 'poutcome'],\n",
       "      dtype='object'))])),\n",
       "                ('estimator', KNeighborsClassifier())])"
      ]
     },
     "execution_count": 67,
     "metadata": {},
     "output_type": "execute_result"
    }
   ],
   "source": [
    "pipeline_knn.fit(X_train, y_train)"
   ]
  },
  {
   "cell_type": "code",
   "execution_count": 68,
   "id": "3cf037ef-a57b-4e75-808f-d682a27a96d2",
   "metadata": {
    "id": "bdaPp7id-ueM"
   },
   "outputs": [],
   "source": [
    "pred_knn = pipeline_knn.predict(X_test)\n",
    "scores.append(f1_score(y_test, pred_knn))"
   ]
  },
  {
   "cell_type": "code",
   "execution_count": 69,
   "id": "d3a57c3f-f860-4c92-a7de-83f16d89a7ee",
   "metadata": {
    "colab": {
     "base_uri": "https://localhost:8080/"
    },
    "id": "AiH1-VV-gx9r",
    "outputId": "1102db85-0da8-4820-864f-73e470cd70d9"
   },
   "outputs": [
    {
     "name": "stdout",
     "output_type": "stream",
     "text": [
      "              precision    recall  f1-score   support\n",
      "\n",
      "           0       0.91      0.97      0.94      7292\n",
      "           1       0.51      0.25      0.34       946\n",
      "\n",
      "    accuracy                           0.89      8238\n",
      "   macro avg       0.71      0.61      0.64      8238\n",
      "weighted avg       0.86      0.89      0.87      8238\n",
      "\n"
     ]
    }
   ],
   "source": [
    "print(classification_report(y_test, pred_knn))"
   ]
  },
  {
   "cell_type": "markdown",
   "id": "184e1c9b-5e09-4019-8905-39482726ff9c",
   "metadata": {
    "id": "RSV9xdQxgx9r"
   },
   "source": [
    "## Naive Bayes"
   ]
  },
  {
   "cell_type": "code",
   "execution_count": 70,
   "id": "0f8682c7-69df-4068-854e-c5d440b12528",
   "metadata": {
    "id": "1kaT6M78gx9s"
   },
   "outputs": [],
   "source": [
    "nb = BernoulliNB()\n",
    "\n",
    "pipeline_nb = Pipeline([(\"col_transformer\", preprocessor), (\"estimator\", nb)])"
   ]
  },
  {
   "cell_type": "code",
   "execution_count": 73,
   "id": "f9dce060-fc5b-41ef-a2de-11f3154d7381",
   "metadata": {
    "id": "T6uHskJU5WzZ"
   },
   "outputs": [],
   "source": [
    "pipeline_nb.fit(X_train, y_train)\n",
    "\n",
    "pred_nb = pipeline_nb.predict(X_test)\n",
    "scores.append(f1_score(y_test, pred_nb))"
   ]
  },
  {
   "cell_type": "code",
   "execution_count": 74,
   "id": "7efc85bf-369e-4547-8096-b04e2ee82593",
   "metadata": {
    "colab": {
     "base_uri": "https://localhost:8080/"
    },
    "id": "VM8jRRQWgx9s",
    "outputId": "616e4a3f-f8d2-4893-eb09-de82a0428974"
   },
   "outputs": [
    {
     "name": "stdout",
     "output_type": "stream",
     "text": [
      "              precision    recall  f1-score   support\n",
      "\n",
      "           0       0.94      0.82      0.88      7292\n",
      "           1       0.31      0.62      0.42       946\n",
      "\n",
      "    accuracy                           0.80      8238\n",
      "   macro avg       0.63      0.72      0.65      8238\n",
      "weighted avg       0.87      0.80      0.83      8238\n",
      "\n"
     ]
    }
   ],
   "source": [
    "print(classification_report(y_test, pred_nb))"
   ]
  },
  {
   "cell_type": "markdown",
   "id": "862f8547-ff81-4265-be95-62c46fe492e0",
   "metadata": {
    "id": "ulHmFLcFgx9s"
   },
   "source": [
    "## SVM"
   ]
  },
  {
   "cell_type": "code",
   "execution_count": 75,
   "id": "433d54d3-9ccf-470b-b0c1-99707cba5d13",
   "metadata": {
    "id": "8mnPS5vGgx9s"
   },
   "outputs": [],
   "source": [
    "svm = LinearSVC()\n",
    "\n",
    "pipeline_svm = Pipeline([(\"col_transformer\", preprocessor), (\"estimator\", svm)])"
   ]
  },
  {
   "cell_type": "code",
   "execution_count": 76,
   "id": "89b2ab97-fde0-4cfb-a08f-8f9d8c61f13f",
   "metadata": {
    "colab": {
     "base_uri": "https://localhost:8080/"
    },
    "id": "H52mruB67ocb",
    "outputId": "39fd91e3-2a3e-4a6c-e305-1190212ad2e6"
   },
   "outputs": [
    {
     "name": "stderr",
     "output_type": "stream",
     "text": [
      "C:\\Users\\juana_0mrk5mk\\anaconda3\\envs\\MLG\\lib\\site-packages\\sklearn\\svm\\_base.py:985: ConvergenceWarning: Liblinear failed to converge, increase the number of iterations.\n",
      "  warnings.warn(\"Liblinear failed to converge, increase \"\n"
     ]
    }
   ],
   "source": [
    "pipeline_svm.fit(X_train, y_train)\n",
    "\n",
    "pred_svm = pipeline_svm.predict(X_test)\n",
    "scores.append(f1_score(y_test, pred_svm))"
   ]
  },
  {
   "cell_type": "code",
   "execution_count": 77,
   "id": "cbf2a324-863b-47a3-a9fe-60ede4f04b3d",
   "metadata": {
    "colab": {
     "base_uri": "https://localhost:8080/"
    },
    "id": "plXRnS7hgx9t",
    "outputId": "dc6ad8da-e408-44ca-b916-b285a422bc55"
   },
   "outputs": [
    {
     "name": "stdout",
     "output_type": "stream",
     "text": [
      "              precision    recall  f1-score   support\n",
      "\n",
      "           0       0.90      0.99      0.94      7292\n",
      "           1       0.64      0.19      0.29       946\n",
      "\n",
      "    accuracy                           0.89      8238\n",
      "   macro avg       0.77      0.59      0.62      8238\n",
      "weighted avg       0.87      0.89      0.87      8238\n",
      "\n"
     ]
    }
   ],
   "source": [
    "print(classification_report(y_test, pred_svm))"
   ]
  },
  {
   "cell_type": "markdown",
   "id": "46b2ea66-c13c-4aa9-87a4-e7e20f193852",
   "metadata": {
    "id": "wt3WIhtjgx9t"
   },
   "source": [
    "## RandomForestClassifier"
   ]
  },
  {
   "cell_type": "code",
   "execution_count": 80,
   "id": "9f4a52d2-b2a1-4d2a-a598-ff21abdf9c14",
   "metadata": {
    "id": "g3Ieshtogx9t"
   },
   "outputs": [],
   "source": [
    "rfc = RandomForestClassifier(n_estimators=500, random_state=42)\n",
    "\n",
    "pipeline_rfc = Pipeline([(\"col_transformer\", preprocessor), (\"estimator\", rfc)])"
   ]
  },
  {
   "cell_type": "code",
   "execution_count": 81,
   "id": "44b2abe5-2d26-4052-9fcd-22d9198151a8",
   "metadata": {
    "id": "g57t3Dj_76Ix"
   },
   "outputs": [],
   "source": [
    "pipeline_rfc.fit(X_train, y_train)\n",
    "\n",
    "pred_rfc = pipeline_rfc.predict(X_test)\n",
    "scores.append(f1_score(y_test, pred_rfc))"
   ]
  },
  {
   "cell_type": "code",
   "execution_count": 82,
   "id": "554a05a6-7e7b-43d1-a8bb-027c1d7133e8",
   "metadata": {
    "colab": {
     "base_uri": "https://localhost:8080/"
    },
    "id": "tUp15_-Bgx9t",
    "outputId": "601712d4-bee2-457a-cfa0-bc11592477f3"
   },
   "outputs": [
    {
     "name": "stdout",
     "output_type": "stream",
     "text": [
      "              precision    recall  f1-score   support\n",
      "\n",
      "           0       0.91      0.97      0.94      7292\n",
      "           1       0.55      0.27      0.36       946\n",
      "\n",
      "    accuracy                           0.89      8238\n",
      "   macro avg       0.73      0.62      0.65      8238\n",
      "weighted avg       0.87      0.89      0.87      8238\n",
      "\n"
     ]
    }
   ],
   "source": [
    "print(classification_report(y_test, pred_rfc))"
   ]
  },
  {
   "cell_type": "markdown",
   "id": "4eefc9ae-17a3-4b16-93b8-66ab59b131ca",
   "metadata": {
    "id": "AnR58fiq9DvK"
   },
   "source": [
    "## AdaBoost"
   ]
  },
  {
   "cell_type": "code",
   "execution_count": 83,
   "id": "a7634bae-1005-4463-8183-a0040a3bd903",
   "metadata": {
    "id": "cM7I6cZT9DvZ"
   },
   "outputs": [],
   "source": [
    "ada = AdaBoostClassifier()\n",
    "\n",
    "pipeline_ada = Pipeline([(\"col_transformer\", preprocessor), (\"estimator\", ada)])"
   ]
  },
  {
   "cell_type": "code",
   "execution_count": 84,
   "id": "4651d817-d1d3-4dc3-8494-eab4afaa08d0",
   "metadata": {
    "id": "wr2PmKXG9Dva"
   },
   "outputs": [],
   "source": [
    "pipeline_ada.fit(X_train, y_train)\n",
    "\n",
    "pred_ada = pipeline_ada.predict(X_test)\n",
    "scores.append(f1_score(y_test, pred_ada))"
   ]
  },
  {
   "cell_type": "code",
   "execution_count": 85,
   "id": "0983c56d-a76b-4f20-af41-68e79d3cc962",
   "metadata": {
    "colab": {
     "base_uri": "https://localhost:8080/"
    },
    "id": "RTciQwAI9Dvb",
    "outputId": "0df87a69-214d-4d6d-fe92-afd05673c9fb"
   },
   "outputs": [
    {
     "name": "stdout",
     "output_type": "stream",
     "text": [
      "              precision    recall  f1-score   support\n",
      "\n",
      "           0       0.91      0.99      0.94      7292\n",
      "           1       0.67      0.20      0.31       946\n",
      "\n",
      "    accuracy                           0.90      8238\n",
      "   macro avg       0.79      0.60      0.63      8238\n",
      "weighted avg       0.88      0.90      0.87      8238\n",
      "\n"
     ]
    }
   ],
   "source": [
    "print(classification_report(y_test, pred_ada))"
   ]
  },
  {
   "cell_type": "code",
   "execution_count": 87,
   "id": "fa6338bf-3f2d-4366-b0ee-7915e46dfd33",
   "metadata": {
    "colab": {
     "base_uri": "https://localhost:8080/"
    },
    "id": "QVVcQHtt3jmo",
    "outputId": "18ef3936-b27c-44b4-dbac-7810d411a76a"
   },
   "outputs": [
    {
     "name": "stdout",
     "output_type": "stream",
     "text": [
      "              precision    recall  f1-score   support\n",
      "\n",
      "           0       0.91      0.95      0.93      7292\n",
      "           1       0.41      0.28      0.33       946\n",
      "\n",
      "    accuracy                           0.87      8238\n",
      "   macro avg       0.66      0.62      0.63      8238\n",
      "weighted avg       0.85      0.87      0.86      8238\n",
      "\n"
     ]
    }
   ],
   "source": [
    "ada2 = AdaBoostClassifier(\n",
    "    n_estimators=100,\n",
    "    base_estimator=DecisionTreeClassifier(max_depth=8, random_state=42),\n",
    "    random_state=42,\n",
    ")\n",
    "pipeline_ada2 = Pipeline([(\"col_transformer\", preprocessor), (\"estimator\", ada2)])\n",
    "pipeline_ada2.fit(X_train, y_train)\n",
    "pred_ada = pipeline_ada2.predict(X_test)\n",
    "print(classification_report(y_test, pred_ada))"
   ]
  },
  {
   "cell_type": "markdown",
   "id": "441197ed-d317-466d-81c2-67504fa8ab85",
   "metadata": {
    "id": "CQFkDXegk6bU"
   },
   "source": [
    "## XGBoost"
   ]
  },
  {
   "cell_type": "code",
   "execution_count": 88,
   "id": "6442d3b2-ffeb-4107-8f9b-28b108af3300",
   "metadata": {
    "id": "vopcbAbqk5bG"
   },
   "outputs": [],
   "source": [
    "xgb = XGBClassifier()\n",
    "\n",
    "pipeline_xgb = Pipeline([(\"col_transformer\", preprocessor), (\"estimator\", xgb)])"
   ]
  },
  {
   "cell_type": "code",
   "execution_count": 89,
   "id": "75d76214-53de-43d1-af0c-747fb2d8d0ec",
   "metadata": {
    "id": "bLh9XsmI8Fa2"
   },
   "outputs": [
    {
     "name": "stderr",
     "output_type": "stream",
     "text": [
      "C:\\Users\\juana_0mrk5mk\\anaconda3\\envs\\MLG\\lib\\site-packages\\xgboost\\sklearn.py:1146: UserWarning: The use of label encoder in XGBClassifier is deprecated and will be removed in a future release. To remove this warning, do the following: 1) Pass option use_label_encoder=False when constructing XGBClassifier object; and 2) Encode your labels (y) as integers starting with 0, i.e. 0, 1, 2, ..., [num_class - 1].\n",
      "  warnings.warn(label_encoder_deprecation_msg, UserWarning)\n"
     ]
    },
    {
     "name": "stdout",
     "output_type": "stream",
     "text": [
      "[09:58:36] WARNING: ..\\src\\learner.cc:1095: Starting in XGBoost 1.3.0, the default evaluation metric used with the objective 'binary:logistic' was changed from 'error' to 'logloss'. Explicitly set eval_metric if you'd like to restore the old behavior.\n"
     ]
    }
   ],
   "source": [
    "pipeline_xgb.fit(X_train, y_train)\n",
    "\n",
    "pred_xgb = pipeline_xgb.predict(X_test)\n",
    "scores.append(f1_score(y_test, pred_xgb))"
   ]
  },
  {
   "cell_type": "code",
   "execution_count": 90,
   "id": "b2a5d331-a0d6-4e0b-bc97-ae4980e6fcda",
   "metadata": {
    "colab": {
     "base_uri": "https://localhost:8080/"
    },
    "id": "rGMQV2H7zxoY",
    "outputId": "1b71c679-6019-4be5-d136-67f7bd68af11"
   },
   "outputs": [
    {
     "name": "stdout",
     "output_type": "stream",
     "text": [
      "              precision    recall  f1-score   support\n",
      "\n",
      "           0       0.91      0.98      0.94      7292\n",
      "           1       0.59      0.27      0.37       946\n",
      "\n",
      "    accuracy                           0.89      8238\n",
      "   macro avg       0.75      0.62      0.66      8238\n",
      "weighted avg       0.87      0.89      0.88      8238\n",
      "\n"
     ]
    }
   ],
   "source": [
    "print(classification_report(y_test, pred_xgb))"
   ]
  },
  {
   "cell_type": "markdown",
   "id": "8dfda52a-b7b4-479c-8483-c82de21a2bf7",
   "metadata": {
    "id": "t80ukMjT_Fxn"
   },
   "source": [
    "### Compare model performance"
   ]
  },
  {
   "cell_type": "code",
   "execution_count": 91,
   "id": "309beed0-c118-4cd3-a083-9cb2aa9d0e0a",
   "metadata": {
    "colab": {
     "base_uri": "https://localhost:8080/",
     "height": 265
    },
    "id": "q7R2dAGtgx9u",
    "outputId": "6001fb60-6eb3-4e22-c86b-2209b04921fb"
   },
   "outputs": [
    {
     "data": {
      "image/png": "[encoded data removed]",
      "text/plain": [
       "<Figure size 576x396 with 1 Axes>"
      ]
     },
     "metadata": {},
     "output_type": "display_data"
    }
   ],
   "source": [
    "models = [\"lr\", \"knn\", \"nb\", \"svm\", \"rfc\", \"ada\", \"xgb\"]\n",
    "plt.bar(models, scores)"
   ]
  },
  {
   "cell_type": "code",
   "execution_count": 92,
   "id": "d28ea480-9d93-4939-bfd9-bc5df914f5dc",
   "metadata": {
    "colab": {
     "base_uri": "https://localhost:8080/"
    },
    "id": "o9m7ZEub_497",
    "outputId": "0d9d08c5-0641-450e-ad62-446f182351ed"
   },
   "outputs": [
    {
     "data": {
      "text/plain": [
       "['lr', 'knn', 'nb', 'svm', 'rfc', 'ada', 'xgb']"
      ]
     },
     "execution_count": 92,
     "metadata": {},
     "output_type": "execute_result"
    }
   ],
   "source": [
    "models"
   ]
  },
  {
   "cell_type": "code",
   "execution_count": 93,
   "id": "22a8fd74-a218-4fa9-9f73-16056bc6be02",
   "metadata": {
    "colab": {
     "base_uri": "https://localhost:8080/"
    },
    "id": "3WS7Sq_D_6jp",
    "outputId": "47fead5a-a5b1-46b4-a815-09e6488bf900"
   },
   "outputs": [
    {
     "data": {
      "text/plain": [
       "[0.46615384615384614,\n",
       " 0.3382873319179051,\n",
       " 0.4172303310786757,\n",
       " 0.2922448979591837,\n",
       " 0.3635077793493635,\n",
       " 0.3130575831305758,\n",
       " 0.3721940622737147]"
      ]
     },
     "execution_count": 93,
     "metadata": {},
     "output_type": "execute_result"
    }
   ],
   "source": [
    "scores"
   ]
  },
  {
   "cell_type": "code",
   "execution_count": 94,
   "id": "03cc483d-dfe1-4a77-a567-19e43a208d8c",
   "metadata": {
    "colab": {
     "base_uri": "https://localhost:8080/",
     "height": 265
    },
    "id": "DWs_S8Yj9rgv",
    "outputId": "85e44779-ced4-4252-f1c5-ff22e2506ef3"
   },
   "outputs": [
    {
     "data": {
      "image/png": "[encoded data removed]",
      "text/plain": [
       "<Figure size 576x396 with 1 Axes>"
      ]
     },
     "metadata": {},
     "output_type": "display_data"
    }
   ],
   "source": [
    "plt.plot(models, scores)"
   ]
  },
  {
   "cell_type": "markdown",
   "id": "7c4dc760-f418-4b67-91bc-dea82af2e219",
   "metadata": {
    "id": "kxbOIf6Q_ZWo"
   },
   "source": [
    "### Feature Importance \n",
    "\n",
    "Trees based models like RandomForest, XGBoost, etc.  provide us feature importance based on the training."
   ]
  },
  {
   "cell_type": "code",
   "execution_count": 95,
   "id": "11227ced-8c00-4284-9683-e916927c8c67",
   "metadata": {
    "colab": {
     "base_uri": "https://localhost:8080/"
    },
    "id": "Ey_So5IL5XYG",
    "outputId": "c738c694-8465-4356-dbbf-135fe9de1618"
   },
   "outputs": [
    {
     "data": {
      "text/plain": [
       "Pipeline(steps=[('col_transformer',\n",
       "                 ColumnTransformer(transformers=[('num',\n",
       "                                                  Pipeline(steps=[('scaler',\n",
       "                                                                   StandardScaler())]),\n",
       "                                                  Index(['age', 'campaign', 'pdays', 'previous', 'emp_var_rate',\n",
       "       'cons_price_idx', 'cons_conf_idx', 'euribor3m', 'nr_employed'],\n",
       "      dtype='object')),\n",
       "                                                 ('cat',\n",
       "                                                  Pipeline(steps=[('onehot',\n",
       "                                                                   OneHotEncoder(handle_unknown='ignore'))]),\n",
       "                                                  Index(['job', 'marital', 'education', 'default', 'housing', 'loan', 'contact',\n",
       "       'month', 'day_of_week', 'poutcome'],\n",
       "      dtype='object'))])),\n",
       "                ('estimator',\n",
       "                 RandomForestClassifier(n_estimators=500, random_state=42))])"
      ]
     },
     "execution_count": 95,
     "metadata": {},
     "output_type": "execute_result"
    }
   ],
   "source": [
    "pipeline_rfc"
   ]
  },
  {
   "cell_type": "code",
   "execution_count": 96,
   "id": "b81927e0-da92-4988-a872-a3d479e28d38",
   "metadata": {
    "colab": {
     "base_uri": "https://localhost:8080/"
    },
    "id": "dVdfnLXH_wr6",
    "outputId": "e09c23b7-f25c-4cc1-a45d-8db7cba4778d"
   },
   "outputs": [
    {
     "data": {
      "text/plain": [
       "RandomForestClassifier(n_estimators=500, random_state=42)"
      ]
     },
     "execution_count": 96,
     "metadata": {},
     "output_type": "execute_result"
    }
   ],
   "source": [
    "rfc_model = pipeline_rfc[\"estimator\"]\n",
    "rfc_model"
   ]
  },
  {
   "cell_type": "code",
   "execution_count": 97,
   "id": "606bcee7-e1e7-4b18-a95f-8b4b355e62b7",
   "metadata": {
    "colab": {
     "base_uri": "https://localhost:8080/"
    },
    "id": "-QrGDsPuD9Cm",
    "outputId": "6ec3f8c7-5b8b-41bc-b501-4495bb04a106"
   },
   "outputs": [
    {
     "data": {
      "text/plain": [
       "[('num',\n",
       "  Pipeline(steps=[('scaler', StandardScaler())]),\n",
       "  Index(['age', 'campaign', 'pdays', 'previous', 'emp_var_rate',\n",
       "         'cons_price_idx', 'cons_conf_idx', 'euribor3m', 'nr_employed'],\n",
       "        dtype='object')),\n",
       " ('cat',\n",
       "  Pipeline(steps=[('onehot', OneHotEncoder(handle_unknown='ignore'))]),\n",
       "  Index(['job', 'marital', 'education', 'default', 'housing', 'loan', 'contact',\n",
       "         'month', 'day_of_week', 'poutcome'],\n",
       "        dtype='object'))]"
      ]
     },
     "execution_count": 97,
     "metadata": {},
     "output_type": "execute_result"
    }
   ],
   "source": [
    "pipeline_rfc[\"col_transformer\"].transformers_"
   ]
  },
  {
   "cell_type": "code",
   "execution_count": 98,
   "id": "c40b0e6c-a5eb-4982-862b-dd0c50243094",
   "metadata": {
    "id": "4jZ6DFdUEMgh"
   },
   "outputs": [],
   "source": [
    "num_feat = list(pipeline_rfc[\"col_transformer\"].transformers_[0][2])\n",
    "cat_feat = list(\n",
    "    pipeline_rfc[\"col_transformer\"]\n",
    "    .transformers_[1][1][\"onehot\"]\n",
    "    .get_feature_names(categorical_features)\n",
    ")"
   ]
  },
  {
   "cell_type": "code",
   "execution_count": 99,
   "id": "cb109b4b-e5fc-4702-a29a-141ff244eb1f",
   "metadata": {
    "colab": {
     "base_uri": "https://localhost:8080/"
    },
    "collapsed": true,
    "id": "tkoxGLimD66b",
    "jupyter": {
     "outputs_hidden": true
    },
    "outputId": "fb936dd1-09d5-4487-9714-99ea2bc08f9b",
    "tags": []
   },
   "outputs": [
    {
     "data": {
      "text/plain": [
       "['age',\n",
       " 'campaign',\n",
       " 'pdays',\n",
       " 'previous',\n",
       " 'emp_var_rate',\n",
       " 'cons_price_idx',\n",
       " 'cons_conf_idx',\n",
       " 'euribor3m',\n",
       " 'nr_employed',\n",
       " 'job_admin.',\n",
       " 'job_blue-collar',\n",
       " 'job_entrepreneur',\n",
       " 'job_housemaid',\n",
       " 'job_management',\n",
       " 'job_retired',\n",
       " 'job_self-employed',\n",
       " 'job_services',\n",
       " 'job_student',\n",
       " 'job_technician',\n",
       " 'job_unemployed',\n",
       " 'job_unknown',\n",
       " 'marital_divorced',\n",
       " 'marital_married',\n",
       " 'marital_single',\n",
       " 'marital_unknown',\n",
       " 'education_basic.4y',\n",
       " 'education_basic.6y',\n",
       " 'education_basic.9y',\n",
       " 'education_high.school',\n",
       " 'education_illiterate',\n",
       " 'education_professional.course',\n",
       " 'education_university.degree',\n",
       " 'education_unknown',\n",
       " 'default_no',\n",
       " 'default_unknown',\n",
       " 'default_yes',\n",
       " 'housing_no',\n",
       " 'housing_unknown',\n",
       " 'housing_yes',\n",
       " 'loan_no',\n",
       " 'loan_unknown',\n",
       " 'loan_yes',\n",
       " 'contact_cellular',\n",
       " 'contact_telephone',\n",
       " 'month_apr',\n",
       " 'month_aug',\n",
       " 'month_dec',\n",
       " 'month_jul',\n",
       " 'month_jun',\n",
       " 'month_mar',\n",
       " 'month_may',\n",
       " 'month_nov',\n",
       " 'month_oct',\n",
       " 'month_sep',\n",
       " 'day_of_week_fri',\n",
       " 'day_of_week_mon',\n",
       " 'day_of_week_thu',\n",
       " 'day_of_week_tue',\n",
       " 'day_of_week_wed',\n",
       " 'poutcome_failure',\n",
       " 'poutcome_nonexistent',\n",
       " 'poutcome_success']"
      ]
     },
     "execution_count": 99,
     "metadata": {},
     "output_type": "execute_result"
    }
   ],
   "source": [
    "feature_columns = num_feat + cat_feat\n",
    "feature_columns"
   ]
  },
  {
   "cell_type": "code",
   "execution_count": 100,
   "id": "9b9b4a9b-5a39-4c83-9b2b-d9a16f30d540",
   "metadata": {
    "colab": {
     "base_uri": "https://localhost:8080/"
    },
    "id": "JuDF19foAqL7",
    "outputId": "46bc3b53-c22d-4bb1-91d0-5c42c953b522"
   },
   "outputs": [
    {
     "data": {
      "text/plain": [
       "array([1.57696990e-01, 8.19494073e-02, 3.45615874e-02, 1.39044873e-02,\n",
       "       2.29044890e-02, 2.28864373e-02, 2.55208972e-02, 1.17432030e-01,\n",
       "       5.04528270e-02, 1.75164447e-02, 1.20323342e-02, 5.61588916e-03,\n",
       "       4.55408586e-03, 9.25707176e-03, 7.01928663e-03, 6.08278011e-03,\n",
       "       9.24059593e-03, 5.39168170e-03, 1.43452660e-02, 5.22923319e-03,\n",
       "       2.36131747e-03, 1.04573627e-02, 1.66310109e-02, 1.46827765e-02,\n",
       "       6.03572490e-04, 8.33623827e-03, 6.89253127e-03, 1.14436477e-02,\n",
       "       1.64077866e-02, 3.94660170e-04, 1.18151431e-02, 1.59971740e-02,\n",
       "       6.82308311e-03, 8.07628867e-03, 8.10072405e-03, 1.28207209e-06,\n",
       "       2.10315037e-02, 2.52784148e-03, 2.08941791e-02, 1.38178775e-02,\n",
       "       2.51539921e-03, 1.33707084e-02, 7.91070487e-03, 7.73129576e-03,\n",
       "       3.29209845e-03, 2.67042210e-03, 1.04967052e-03, 2.72254446e-03,\n",
       "       2.83970409e-03, 4.59391222e-03, 4.69675304e-03, 2.41003883e-03,\n",
       "       5.11314903e-03, 2.72240471e-03, 1.38543901e-02, 1.55294266e-02,\n",
       "       1.45037604e-02, 1.49048804e-02, 1.48040764e-02, 8.44373165e-03,\n",
       "       8.42729165e-03, 2.50038141e-02])"
      ]
     },
     "execution_count": 100,
     "metadata": {},
     "output_type": "execute_result"
    }
   ],
   "source": [
    "rfc_model.feature_importances_"
   ]
  },
  {
   "cell_type": "code",
   "execution_count": 101,
   "id": "f82ce8bf-d896-4664-a548-3654c311a49b",
   "metadata": {
    "colab": {
     "base_uri": "https://localhost:8080/",
     "height": 1000
    },
    "id": "JmzEe6ZG-JV7",
    "outputId": "dc2f5e86-4de2-4581-9e3c-17cf73fb6ca4"
   },
   "outputs": [
    {
     "data": {
      "text/html": [
       "<div>\n",
       "<style scoped>\n",
       "    .dataframe tbody tr th:only-of-type {\n",
       "        vertical-align: middle;\n",
       "    }\n",
       "\n",
       "    .dataframe tbody tr th {\n",
       "        vertical-align: top;\n",
       "    }\n",
       "\n",
       "    .dataframe thead th {\n",
       "        text-align: right;\n",
       "    }\n",
       "</style>\n",
       "<table border=\"1\" class=\"dataframe\">\n",
       "  <thead>\n",
       "    <tr style=\"text-align: right;\">\n",
       "      <th></th>\n",
       "      <th>importance</th>\n",
       "    </tr>\n",
       "    <tr>\n",
       "      <th>feature</th>\n",
       "      <th></th>\n",
       "    </tr>\n",
       "  </thead>\n",
       "  <tbody>\n",
       "    <tr>\n",
       "      <th>age</th>\n",
       "      <td>0.158</td>\n",
       "    </tr>\n",
       "    <tr>\n",
       "      <th>euribor3m</th>\n",
       "      <td>0.117</td>\n",
       "    </tr>\n",
       "    <tr>\n",
       "      <th>campaign</th>\n",
       "      <td>0.082</td>\n",
       "    </tr>\n",
       "    <tr>\n",
       "      <th>nr_employed</th>\n",
       "      <td>0.050</td>\n",
       "    </tr>\n",
       "    <tr>\n",
       "      <th>pdays</th>\n",
       "      <td>0.035</td>\n",
       "    </tr>\n",
       "    <tr>\n",
       "      <th>...</th>\n",
       "      <td>...</td>\n",
       "    </tr>\n",
       "    <tr>\n",
       "      <th>job_unknown</th>\n",
       "      <td>0.002</td>\n",
       "    </tr>\n",
       "    <tr>\n",
       "      <th>month_dec</th>\n",
       "      <td>0.001</td>\n",
       "    </tr>\n",
       "    <tr>\n",
       "      <th>marital_unknown</th>\n",
       "      <td>0.001</td>\n",
       "    </tr>\n",
       "    <tr>\n",
       "      <th>default_yes</th>\n",
       "      <td>0.000</td>\n",
       "    </tr>\n",
       "    <tr>\n",
       "      <th>education_illiterate</th>\n",
       "      <td>0.000</td>\n",
       "    </tr>\n",
       "  </tbody>\n",
       "</table>\n",
       "<p>62 rows × 1 columns</p>\n",
       "</div>"
      ],
      "text/plain": [
       "                      importance\n",
       "feature                         \n",
       "age                        0.158\n",
       "euribor3m                  0.117\n",
       "campaign                   0.082\n",
       "nr_employed                0.050\n",
       "pdays                      0.035\n",
       "...                          ...\n",
       "job_unknown                0.002\n",
       "month_dec                  0.001\n",
       "marital_unknown            0.001\n",
       "default_yes                0.000\n",
       "education_illiterate       0.000\n",
       "\n",
       "[62 rows x 1 columns]"
      ]
     },
     "execution_count": 101,
     "metadata": {},
     "output_type": "execute_result"
    }
   ],
   "source": [
    "rfc_importances = pd.DataFrame(\n",
    "    {\"feature\": feature_columns, \"importance\": np.round(rfc.feature_importances_, 3)}\n",
    ")\n",
    "rfc_importances = rfc_importances.sort_values(\"importance\", ascending=False).set_index(\n",
    "    \"feature\"\n",
    ")\n",
    "rfc_importances"
   ]
  },
  {
   "cell_type": "code",
   "execution_count": 102,
   "id": "1b0f65e8-10f1-4e21-b508-a63e94d49ddc",
   "metadata": {
    "id": "X9VskXKhF6PM"
   },
   "outputs": [],
   "source": [
    "# rfc_importances"
   ]
  },
  {
   "cell_type": "code",
   "execution_count": 103,
   "id": "a0dc8710-1d3b-4814-a702-de649415a77e",
   "metadata": {
    "colab": {
     "base_uri": "https://localhost:8080/",
     "height": 592
    },
    "id": "PM3cgsWYFR8h",
    "outputId": "0af3f528-dc61-4473-8fd0-bc4b88293aa6"
   },
   "outputs": [
    {
     "data": {
      "image/png": "[encoded data removed]",
      "text/plain": [
       "<Figure size 720x720 with 1 Axes>"
      ]
     },
     "metadata": {},
     "output_type": "display_data"
    }
   ],
   "source": [
    "f, ax = plt.subplots(figsize=(10, 10))\n",
    "rfc_importances.plot(kind=\"barh\", ax=ax)"
   ]
  },
  {
   "cell_type": "code",
   "execution_count": null,
   "id": "0b8d004e-3072-41ae-9bd4-ef5971615b79",
   "metadata": {},
   "outputs": [],
   "source": []
  }
 ],
 "metadata": {
  "kernelspec": {
   "display_name": "MLG",
   "language": "python",
   "name": "mlg"
  },
  "language_info": {
   "codemirror_mode": {
    "name": "ipython",
    "version": 3
   },
   "file_extension": ".py",
   "mimetype": "text/x-python",
   "name": "python",
   "nbconvert_exporter": "python",
   "pygments_lexer": "ipython3",
   "version": "3.9.7"
  }
 },
 "nbformat": 4,
 "nbformat_minor": 5
}
