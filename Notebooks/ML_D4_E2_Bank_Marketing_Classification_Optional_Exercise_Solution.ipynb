{
  "nbformat": 4,
  "nbformat_minor": 0,
  "metadata": {
    "kernelspec": {
      "display_name": "Python 3",
      "language": "python",
      "name": "python3"
    },
    "language_info": {
      "codemirror_mode": {
        "name": "ipython",
        "version": 3
      },
      "file_extension": ".py",
      "mimetype": "text/x-python",
      "name": "python",
      "nbconvert_exporter": "python",
      "pygments_lexer": "ipython3",
      "version": "3.8.5"
    },
    "colab": {
      "name": "Bank Marketing Classification - Optional Exercise Solution.ipynb",
      "provenance": [],
      "collapsed_sections": [],
      "toc_visible": true
    }
  },
  "cells": [
    {
      "cell_type": "markdown",
      "metadata": {
        "id": "eEomU2iAgx9m"
      },
      "source": [
        "<center><a target=\"_blank\" href=\"http://www.propulsion.academy\"><img src=\"https://drive.google.com/uc?id=1McNxpNrSwfqu1w-QtlOmPSmfULvkkMQV\" width=\"200\" style=\"background:none; border:none; box-shadow:none;\" /></a> </center>\n",
        "\n",
        "_____\n",
        "\n",
        "<center> <h1> Bank Marketing Classification - Optional Exercise Solution  </h1> </center>\n",
        "\n",
        "<p style=\"margin-bottom:1cm;\"></p>\n",
        "\n",
        "_____\n",
        "\n",
        "<center>Propulsion Academy, 2020</center>"
      ]
    },
    {
      "cell_type": "code",
      "metadata": {
        "colab": {
          "base_uri": "https://localhost:8080/",
          "height": 531
        },
        "id": "2JeHkmas17xI",
        "outputId": "c7248a92-4f0b-4cc3-84a3-ce1d7991bbd0"
      },
      "source": [
        "!pip install imblearn --ignore-installed"
      ],
      "execution_count": null,
      "outputs": [
        {
          "output_type": "stream",
          "text": [
            "Collecting imblearn\n",
            "  Downloading https://files.pythonhosted.org/packages/81/a7/4179e6ebfd654bd0eac0b9c06125b8b4c96a9d0a8ff9e9507eb2a26d2d7e/imblearn-0.0-py2.py3-none-any.whl\n",
            "Collecting imbalanced-learn\n",
            "\u001b[?25l  Downloading https://files.pythonhosted.org/packages/80/98/dc784205a7e3034e84d41ac4781660c67ad6327f2f5a80c568df31673d1c/imbalanced_learn-0.8.0-py3-none-any.whl (206kB)\n",
            "\u001b[K     |████████████████████████████████| 215kB 2.3MB/s \n",
            "\u001b[?25hCollecting scipy>=0.19.1\n",
            "\u001b[?25l  Downloading https://files.pythonhosted.org/packages/7d/e8/43ffca541d2f208d516296950b25fe1084b35c2881f4d444c1346ca75815/scipy-1.6.3-cp37-cp37m-manylinux1_x86_64.whl (27.4MB)\n",
            "\u001b[K     |████████████████████████████████| 27.4MB 203kB/s \n",
            "\u001b[?25hCollecting joblib>=0.11\n",
            "\u001b[?25l  Downloading https://files.pythonhosted.org/packages/55/85/70c6602b078bd9e6f3da4f467047e906525c355a4dacd4f71b97a35d9897/joblib-1.0.1-py3-none-any.whl (303kB)\n",
            "\u001b[K     |████████████████████████████████| 307kB 43.3MB/s \n",
            "\u001b[?25hCollecting numpy>=1.13.3\n",
            "\u001b[?25l  Downloading https://files.pythonhosted.org/packages/a5/42/560d269f604d3e186a57c21a363e77e199358d054884e61b73e405dd217c/numpy-1.20.3-cp37-cp37m-manylinux_2_12_x86_64.manylinux2010_x86_64.whl (15.3MB)\n",
            "\u001b[K     |████████████████████████████████| 15.3MB 187kB/s \n",
            "\u001b[?25hCollecting scikit-learn>=0.24\n",
            "\u001b[?25l  Downloading https://files.pythonhosted.org/packages/a8/eb/a48f25c967526b66d5f1fa7a984594f0bf0a5afafa94a8c4dbc317744620/scikit_learn-0.24.2-cp37-cp37m-manylinux2010_x86_64.whl (22.3MB)\n",
            "\u001b[K     |████████████████████████████████| 22.3MB 64.2MB/s \n",
            "\u001b[?25hCollecting threadpoolctl>=2.0.0\n",
            "  Downloading https://files.pythonhosted.org/packages/f7/12/ec3f2e203afa394a149911729357aa48affc59c20e2c1c8297a60f33f133/threadpoolctl-2.1.0-py3-none-any.whl\n",
            "\u001b[31mERROR: tensorflow 2.5.0 has requirement numpy~=1.19.2, but you'll have numpy 1.20.3 which is incompatible.\u001b[0m\n",
            "\u001b[31mERROR: datascience 0.10.6 has requirement folium==0.2.1, but you'll have folium 0.8.3 which is incompatible.\u001b[0m\n",
            "\u001b[31mERROR: albumentations 0.1.12 has requirement imgaug<0.2.7,>=0.2.5, but you'll have imgaug 0.2.9 which is incompatible.\u001b[0m\n",
            "Installing collected packages: numpy, scipy, joblib, threadpoolctl, scikit-learn, imbalanced-learn, imblearn\n",
            "Successfully installed imbalanced-learn-0.8.0 imblearn-0.0 joblib-1.0.1 numpy-1.20.3 scikit-learn-0.24.2 scipy-1.6.3 threadpoolctl-2.1.0\n"
          ],
          "name": "stdout"
        },
        {
          "output_type": "display_data",
          "data": {
            "application/vnd.colab-display-data+json": {
              "pip_warning": {
                "packages": [
                  "joblib",
                  "numpy",
                  "scipy",
                  "sklearn"
                ]
              }
            }
          },
          "metadata": {
            "tags": []
          }
        }
      ]
    },
    {
      "cell_type": "code",
      "metadata": {
        "id": "gTJGcSYUgx9o"
      },
      "source": [
        "import numpy as np\n",
        "import pandas as pd\n",
        "\n",
        "from sklearn.metrics import f1_score, classification_report\n",
        "from sklearn.model_selection import train_test_split\n",
        "from sklearn.pipeline import Pipeline\n",
        "from sklearn.compose import ColumnTransformer\n",
        "from sklearn.preprocessing import StandardScaler, OneHotEncoder\n",
        "\n",
        "from imblearn.under_sampling import RandomUnderSampler\n",
        "\n",
        "import matplotlib.pyplot as plt"
      ],
      "execution_count": null,
      "outputs": []
    },
    {
      "cell_type": "markdown",
      "metadata": {
        "id": "chdK3x4WgtyK"
      },
      "source": [
        "__Lodaing data__"
      ]
    },
    {
      "cell_type": "code",
      "metadata": {
        "colab": {
          "base_uri": "https://localhost:8080/",
          "height": 439
        },
        "id": "iIZaoW-AgtyL",
        "outputId": "745b8d2a-1c45-4fbe-bbfc-f181c0236dca"
      },
      "source": [
        "orig_url = \"https://drive.google.com/file/d/18ChIRH2micwKWggrIgbhRe3BkAExFidX/view?usp=sharing\"\n",
        "file_id = orig_url.split('/')[-2]\n",
        "dwn_url='https://drive.google.com/uc?export=download&id=' + file_id\n",
        "df = pd.read_csv(dwn_url)\n",
        "df"
      ],
      "execution_count": null,
      "outputs": [
        {
          "output_type": "execute_result",
          "data": {
            "text/html": [
              "<div>\n",
              "<style scoped>\n",
              "    .dataframe tbody tr th:only-of-type {\n",
              "        vertical-align: middle;\n",
              "    }\n",
              "\n",
              "    .dataframe tbody tr th {\n",
              "        vertical-align: top;\n",
              "    }\n",
              "\n",
              "    .dataframe thead th {\n",
              "        text-align: right;\n",
              "    }\n",
              "</style>\n",
              "<table border=\"1\" class=\"dataframe\">\n",
              "  <thead>\n",
              "    <tr style=\"text-align: right;\">\n",
              "      <th></th>\n",
              "      <th>age</th>\n",
              "      <th>job</th>\n",
              "      <th>marital</th>\n",
              "      <th>education</th>\n",
              "      <th>default</th>\n",
              "      <th>housing</th>\n",
              "      <th>loan</th>\n",
              "      <th>contact</th>\n",
              "      <th>month</th>\n",
              "      <th>day_of_week</th>\n",
              "      <th>duration</th>\n",
              "      <th>campaign</th>\n",
              "      <th>pdays</th>\n",
              "      <th>previous</th>\n",
              "      <th>poutcome</th>\n",
              "      <th>emp_var_rate</th>\n",
              "      <th>cons_price_idx</th>\n",
              "      <th>cons_conf_idx</th>\n",
              "      <th>euribor3m</th>\n",
              "      <th>nr_employed</th>\n",
              "      <th>y</th>\n",
              "    </tr>\n",
              "  </thead>\n",
              "  <tbody>\n",
              "    <tr>\n",
              "      <th>0</th>\n",
              "      <td>44</td>\n",
              "      <td>blue-collar</td>\n",
              "      <td>married</td>\n",
              "      <td>basic.4y</td>\n",
              "      <td>unknown</td>\n",
              "      <td>yes</td>\n",
              "      <td>no</td>\n",
              "      <td>cellular</td>\n",
              "      <td>aug</td>\n",
              "      <td>thu</td>\n",
              "      <td>210</td>\n",
              "      <td>1</td>\n",
              "      <td>999</td>\n",
              "      <td>0</td>\n",
              "      <td>nonexistent</td>\n",
              "      <td>1.4</td>\n",
              "      <td>93.444</td>\n",
              "      <td>-36.1</td>\n",
              "      <td>4.963</td>\n",
              "      <td>5228.1</td>\n",
              "      <td>0</td>\n",
              "    </tr>\n",
              "    <tr>\n",
              "      <th>1</th>\n",
              "      <td>53</td>\n",
              "      <td>technician</td>\n",
              "      <td>married</td>\n",
              "      <td>unknown</td>\n",
              "      <td>no</td>\n",
              "      <td>no</td>\n",
              "      <td>no</td>\n",
              "      <td>cellular</td>\n",
              "      <td>nov</td>\n",
              "      <td>fri</td>\n",
              "      <td>138</td>\n",
              "      <td>1</td>\n",
              "      <td>999</td>\n",
              "      <td>0</td>\n",
              "      <td>nonexistent</td>\n",
              "      <td>-0.1</td>\n",
              "      <td>93.200</td>\n",
              "      <td>-42.0</td>\n",
              "      <td>4.021</td>\n",
              "      <td>5195.8</td>\n",
              "      <td>0</td>\n",
              "    </tr>\n",
              "    <tr>\n",
              "      <th>2</th>\n",
              "      <td>28</td>\n",
              "      <td>management</td>\n",
              "      <td>single</td>\n",
              "      <td>university.degree</td>\n",
              "      <td>no</td>\n",
              "      <td>yes</td>\n",
              "      <td>no</td>\n",
              "      <td>cellular</td>\n",
              "      <td>jun</td>\n",
              "      <td>thu</td>\n",
              "      <td>339</td>\n",
              "      <td>3</td>\n",
              "      <td>6</td>\n",
              "      <td>2</td>\n",
              "      <td>success</td>\n",
              "      <td>-1.7</td>\n",
              "      <td>94.055</td>\n",
              "      <td>-39.8</td>\n",
              "      <td>0.729</td>\n",
              "      <td>4991.6</td>\n",
              "      <td>1</td>\n",
              "    </tr>\n",
              "    <tr>\n",
              "      <th>3</th>\n",
              "      <td>39</td>\n",
              "      <td>services</td>\n",
              "      <td>married</td>\n",
              "      <td>high.school</td>\n",
              "      <td>no</td>\n",
              "      <td>no</td>\n",
              "      <td>no</td>\n",
              "      <td>cellular</td>\n",
              "      <td>apr</td>\n",
              "      <td>fri</td>\n",
              "      <td>185</td>\n",
              "      <td>2</td>\n",
              "      <td>999</td>\n",
              "      <td>0</td>\n",
              "      <td>nonexistent</td>\n",
              "      <td>-1.8</td>\n",
              "      <td>93.075</td>\n",
              "      <td>-47.1</td>\n",
              "      <td>1.405</td>\n",
              "      <td>5099.1</td>\n",
              "      <td>0</td>\n",
              "    </tr>\n",
              "    <tr>\n",
              "      <th>4</th>\n",
              "      <td>55</td>\n",
              "      <td>retired</td>\n",
              "      <td>married</td>\n",
              "      <td>basic.4y</td>\n",
              "      <td>no</td>\n",
              "      <td>yes</td>\n",
              "      <td>no</td>\n",
              "      <td>cellular</td>\n",
              "      <td>aug</td>\n",
              "      <td>fri</td>\n",
              "      <td>137</td>\n",
              "      <td>1</td>\n",
              "      <td>3</td>\n",
              "      <td>1</td>\n",
              "      <td>success</td>\n",
              "      <td>-2.9</td>\n",
              "      <td>92.201</td>\n",
              "      <td>-31.4</td>\n",
              "      <td>0.869</td>\n",
              "      <td>5076.2</td>\n",
              "      <td>1</td>\n",
              "    </tr>\n",
              "    <tr>\n",
              "      <th>...</th>\n",
              "      <td>...</td>\n",
              "      <td>...</td>\n",
              "      <td>...</td>\n",
              "      <td>...</td>\n",
              "      <td>...</td>\n",
              "      <td>...</td>\n",
              "      <td>...</td>\n",
              "      <td>...</td>\n",
              "      <td>...</td>\n",
              "      <td>...</td>\n",
              "      <td>...</td>\n",
              "      <td>...</td>\n",
              "      <td>...</td>\n",
              "      <td>...</td>\n",
              "      <td>...</td>\n",
              "      <td>...</td>\n",
              "      <td>...</td>\n",
              "      <td>...</td>\n",
              "      <td>...</td>\n",
              "      <td>...</td>\n",
              "      <td>...</td>\n",
              "    </tr>\n",
              "    <tr>\n",
              "      <th>41183</th>\n",
              "      <td>59</td>\n",
              "      <td>retired</td>\n",
              "      <td>married</td>\n",
              "      <td>high.school</td>\n",
              "      <td>unknown</td>\n",
              "      <td>no</td>\n",
              "      <td>yes</td>\n",
              "      <td>telephone</td>\n",
              "      <td>jun</td>\n",
              "      <td>thu</td>\n",
              "      <td>222</td>\n",
              "      <td>1</td>\n",
              "      <td>999</td>\n",
              "      <td>0</td>\n",
              "      <td>nonexistent</td>\n",
              "      <td>1.4</td>\n",
              "      <td>94.465</td>\n",
              "      <td>-41.8</td>\n",
              "      <td>4.866</td>\n",
              "      <td>5228.1</td>\n",
              "      <td>0</td>\n",
              "    </tr>\n",
              "    <tr>\n",
              "      <th>41184</th>\n",
              "      <td>31</td>\n",
              "      <td>housemaid</td>\n",
              "      <td>married</td>\n",
              "      <td>basic.4y</td>\n",
              "      <td>unknown</td>\n",
              "      <td>no</td>\n",
              "      <td>no</td>\n",
              "      <td>telephone</td>\n",
              "      <td>may</td>\n",
              "      <td>thu</td>\n",
              "      <td>196</td>\n",
              "      <td>2</td>\n",
              "      <td>999</td>\n",
              "      <td>0</td>\n",
              "      <td>nonexistent</td>\n",
              "      <td>1.1</td>\n",
              "      <td>93.994</td>\n",
              "      <td>-36.4</td>\n",
              "      <td>4.860</td>\n",
              "      <td>5191.0</td>\n",
              "      <td>0</td>\n",
              "    </tr>\n",
              "    <tr>\n",
              "      <th>41185</th>\n",
              "      <td>42</td>\n",
              "      <td>admin.</td>\n",
              "      <td>single</td>\n",
              "      <td>university.degree</td>\n",
              "      <td>unknown</td>\n",
              "      <td>yes</td>\n",
              "      <td>yes</td>\n",
              "      <td>telephone</td>\n",
              "      <td>may</td>\n",
              "      <td>wed</td>\n",
              "      <td>62</td>\n",
              "      <td>3</td>\n",
              "      <td>999</td>\n",
              "      <td>0</td>\n",
              "      <td>nonexistent</td>\n",
              "      <td>1.1</td>\n",
              "      <td>93.994</td>\n",
              "      <td>-36.4</td>\n",
              "      <td>4.857</td>\n",
              "      <td>5191.0</td>\n",
              "      <td>0</td>\n",
              "    </tr>\n",
              "    <tr>\n",
              "      <th>41186</th>\n",
              "      <td>48</td>\n",
              "      <td>technician</td>\n",
              "      <td>married</td>\n",
              "      <td>professional.course</td>\n",
              "      <td>no</td>\n",
              "      <td>no</td>\n",
              "      <td>yes</td>\n",
              "      <td>telephone</td>\n",
              "      <td>oct</td>\n",
              "      <td>tue</td>\n",
              "      <td>200</td>\n",
              "      <td>2</td>\n",
              "      <td>999</td>\n",
              "      <td>0</td>\n",
              "      <td>nonexistent</td>\n",
              "      <td>-3.4</td>\n",
              "      <td>92.431</td>\n",
              "      <td>-26.9</td>\n",
              "      <td>0.742</td>\n",
              "      <td>5017.5</td>\n",
              "      <td>0</td>\n",
              "    </tr>\n",
              "    <tr>\n",
              "      <th>41187</th>\n",
              "      <td>25</td>\n",
              "      <td>student</td>\n",
              "      <td>single</td>\n",
              "      <td>high.school</td>\n",
              "      <td>no</td>\n",
              "      <td>no</td>\n",
              "      <td>no</td>\n",
              "      <td>telephone</td>\n",
              "      <td>may</td>\n",
              "      <td>fri</td>\n",
              "      <td>112</td>\n",
              "      <td>4</td>\n",
              "      <td>999</td>\n",
              "      <td>0</td>\n",
              "      <td>nonexistent</td>\n",
              "      <td>1.1</td>\n",
              "      <td>93.994</td>\n",
              "      <td>-36.4</td>\n",
              "      <td>4.859</td>\n",
              "      <td>5191.0</td>\n",
              "      <td>0</td>\n",
              "    </tr>\n",
              "  </tbody>\n",
              "</table>\n",
              "<p>41188 rows × 21 columns</p>\n",
              "</div>"
            ],
            "text/plain": [
              "       age          job  marital  ... euribor3m nr_employed  y\n",
              "0       44  blue-collar  married  ...     4.963      5228.1  0\n",
              "1       53   technician  married  ...     4.021      5195.8  0\n",
              "2       28   management   single  ...     0.729      4991.6  1\n",
              "3       39     services  married  ...     1.405      5099.1  0\n",
              "4       55      retired  married  ...     0.869      5076.2  1\n",
              "...    ...          ...      ...  ...       ...         ... ..\n",
              "41183   59      retired  married  ...     4.866      5228.1  0\n",
              "41184   31    housemaid  married  ...     4.860      5191.0  0\n",
              "41185   42       admin.   single  ...     4.857      5191.0  0\n",
              "41186   48   technician  married  ...     0.742      5017.5  0\n",
              "41187   25      student   single  ...     4.859      5191.0  0\n",
              "\n",
              "[41188 rows x 21 columns]"
            ]
          },
          "metadata": {
            "tags": []
          },
          "execution_count": 3
        }
      ]
    },
    {
      "cell_type": "markdown",
      "metadata": {
        "id": "v0fJjLBPgtyM"
      },
      "source": [
        "__Train and test split__"
      ]
    },
    {
      "cell_type": "code",
      "metadata": {
        "id": "LGujcGQvgtyM"
      },
      "source": [
        "X = df.iloc[:,:-1]\n",
        "y = df['y']\n",
        "\n",
        "X_train, X_test, y_train, y_test = train_test_split(X, y, test_size=0.2, random_state=19)"
      ],
      "execution_count": null,
      "outputs": []
    },
    {
      "cell_type": "code",
      "metadata": {
        "colab": {
          "base_uri": "https://localhost:8080/"
        },
        "id": "gzyfKNN51tTf",
        "outputId": "d5ad999f-1fda-4e59-ca69-21970b9c3dd2"
      },
      "source": [
        "y_train.value_counts()"
      ],
      "execution_count": null,
      "outputs": [
        {
          "output_type": "execute_result",
          "data": {
            "text/plain": [
              "0    29256\n",
              "1     3694\n",
              "Name: y, dtype: int64"
            ]
          },
          "metadata": {
            "tags": []
          },
          "execution_count": 5
        }
      ]
    },
    {
      "cell_type": "markdown",
      "metadata": {
        "id": "y3YTIY6KgtyO"
      },
      "source": [
        "__Resampling RandomUnderSampler__"
      ]
    },
    {
      "cell_type": "code",
      "metadata": {
        "id": "3-s4esOwgtyO"
      },
      "source": [
        "rus = RandomUnderSampler(random_state=42)\n",
        "X_train_rus, y_train_rus = rus.fit_resample(X_train, y_train)"
      ],
      "execution_count": null,
      "outputs": []
    },
    {
      "cell_type": "code",
      "metadata": {
        "colab": {
          "base_uri": "https://localhost:8080/"
        },
        "id": "xy8sCp4UgtyO",
        "outputId": "00032f05-16f6-4833-e510-60f6fdaf8c64"
      },
      "source": [
        "pd.Series(y_train_rus).value_counts()"
      ],
      "execution_count": null,
      "outputs": [
        {
          "output_type": "execute_result",
          "data": {
            "text/plain": [
              "1    3694\n",
              "0    3694\n",
              "Name: y, dtype: int64"
            ]
          },
          "metadata": {
            "tags": []
          },
          "execution_count": 7
        }
      ]
    },
    {
      "cell_type": "markdown",
      "metadata": {
        "id": "Ue64T4VxgtyO"
      },
      "source": [
        "__Pipeline__\n",
        "\n",
        "<span style=\"color:orange\"> **Before running our Models, we first want to prepare our data.**</span> <br>\n",
        "\n",
        "<span style=\"color:green\"> **Categorical data:** One hot encoding</span> <br>\n",
        "<span style=\"color:green\"> **Continuous:** Standard scaling</span> \n",
        "\n",
        "<span style=\"color:orange\"> **We then put everything together using the build in sklearn function called ColumnTransformer**</span>"
      ]
    },
    {
      "cell_type": "markdown",
      "metadata": {
        "id": "QcOHkly1gtyO"
      },
      "source": [
        "__Column transformer__"
      ]
    },
    {
      "cell_type": "code",
      "metadata": {
        "id": "7AXP7S6qgtyO",
        "colab": {
          "base_uri": "https://localhost:8080/"
        },
        "outputId": "3ba8837e-cd5c-4ba1-f032-52e3ce98a259"
      },
      "source": [
        "categorical_features = df.iloc[:, list(np.where(X.dtypes == \"object\")[0])].columns\n",
        "continious_features = df.iloc[:, list(np.where(X.dtypes == \"int\")[0])].columns\n",
        "categorical_features, continious_features"
      ],
      "execution_count": null,
      "outputs": [
        {
          "output_type": "execute_result",
          "data": {
            "text/plain": [
              "(Index(['job', 'marital', 'education', 'default', 'housing', 'loan', 'contact',\n",
              "        'month', 'day_of_week', 'poutcome'],\n",
              "       dtype='object'),\n",
              " Index(['age', 'duration', 'campaign', 'pdays', 'previous'], dtype='object'))"
            ]
          },
          "metadata": {
            "tags": []
          },
          "execution_count": 8
        }
      ]
    },
    {
      "cell_type": "code",
      "metadata": {
        "id": "sfbLivQhgtyP"
      },
      "source": [
        "numeric_transformer = Pipeline(\n",
        "    steps=[(\"scaler\", StandardScaler())])\n",
        "\n",
        "categorical_transformer = Pipeline(\n",
        "    steps=[(\"onehot\", OneHotEncoder(handle_unknown=\"ignore\"))])\n",
        "\n",
        "preprocessor = ColumnTransformer(\n",
        "    transformers = [(\"num\", numeric_transformer, continious_features),\n",
        "                    (\"cat\", categorical_transformer, categorical_features)])"
      ],
      "execution_count": null,
      "outputs": []
    },
    {
      "cell_type": "markdown",
      "metadata": {
        "id": "k9dT7X5lgx9q"
      },
      "source": [
        "<span style=\"color:orange\"> **Let's run different models and evaluate them.**</span>"
      ]
    },
    {
      "cell_type": "markdown",
      "metadata": {
        "id": "EGwWkx6Kgx9r"
      },
      "source": [
        "__KNN__"
      ]
    },
    {
      "cell_type": "code",
      "metadata": {
        "id": "Z8SQxi8Pgx9r",
        "colab": {
          "base_uri": "https://localhost:8080/"
        },
        "outputId": "b8241a7e-60ae-413f-bfa2-276385291ad0"
      },
      "source": [
        "from sklearn.neighbors import KNeighborsClassifier\n",
        "\n",
        "scores = []\n",
        "\n",
        "knn = KNeighborsClassifier()\n",
        "knn"
      ],
      "execution_count": null,
      "outputs": [
        {
          "output_type": "execute_result",
          "data": {
            "text/plain": [
              "KNeighborsClassifier()"
            ]
          },
          "metadata": {
            "tags": []
          },
          "execution_count": 38
        }
      ]
    },
    {
      "cell_type": "code",
      "metadata": {
        "id": "6GjWCYHd-Z_H"
      },
      "source": [
        "pipeline_knn = Pipeline([(\"col_transformer\", preprocessor), \n",
        "                            (\"estimator\", knn)])"
      ],
      "execution_count": null,
      "outputs": []
    },
    {
      "cell_type": "code",
      "metadata": {
        "id": "jdQUamn33Lvi",
        "colab": {
          "base_uri": "https://localhost:8080/"
        },
        "outputId": "a5a12983-a6d6-4d20-a680-4ffc0fd56717"
      },
      "source": [
        "pipeline_knn.fit(X_train_rus, y_train_rus)"
      ],
      "execution_count": null,
      "outputs": [
        {
          "output_type": "execute_result",
          "data": {
            "text/plain": [
              "Pipeline(steps=[('col_transformer',\n",
              "                 ColumnTransformer(transformers=[('num',\n",
              "                                                  Pipeline(steps=[('scaler',\n",
              "                                                                   StandardScaler())]),\n",
              "                                                  Index(['age', 'duration', 'campaign', 'pdays', 'previous'], dtype='object')),\n",
              "                                                 ('cat',\n",
              "                                                  Pipeline(steps=[('onehot',\n",
              "                                                                   OneHotEncoder(handle_unknown='ignore'))]),\n",
              "                                                  Index(['job', 'marital', 'education', 'default', 'housing', 'loan', 'contact',\n",
              "       'month', 'day_of_week', 'poutcome'],\n",
              "      dtype='object'))])),\n",
              "                ('estimator', KNeighborsClassifier())])"
            ]
          },
          "metadata": {
            "tags": []
          },
          "execution_count": 40
        }
      ]
    },
    {
      "cell_type": "code",
      "metadata": {
        "id": "bdaPp7id-ueM"
      },
      "source": [
        "pred_knn = pipeline_knn.predict(X_test)\n",
        "scores.append(f1_score(y_test, pred_knn))\n"
      ],
      "execution_count": null,
      "outputs": []
    },
    {
      "cell_type": "code",
      "metadata": {
        "colab": {
          "base_uri": "https://localhost:8080/"
        },
        "id": "AiH1-VV-gx9r",
        "outputId": "1102db85-0da8-4820-864f-73e470cd70d9"
      },
      "source": [
        "print(classification_report(y_test, pred_knn))"
      ],
      "execution_count": null,
      "outputs": [
        {
          "output_type": "stream",
          "text": [
            "              precision    recall  f1-score   support\n",
            "\n",
            "           0       0.96      0.84      0.90      7292\n",
            "           1       0.38      0.75      0.50       946\n",
            "\n",
            "    accuracy                           0.83      8238\n",
            "   macro avg       0.67      0.80      0.70      8238\n",
            "weighted avg       0.90      0.83      0.85      8238\n",
            "\n"
          ],
          "name": "stdout"
        }
      ]
    },
    {
      "cell_type": "markdown",
      "metadata": {
        "id": "RSV9xdQxgx9r"
      },
      "source": [
        "__Naive Bayes__"
      ]
    },
    {
      "cell_type": "code",
      "metadata": {
        "id": "1kaT6M78gx9s"
      },
      "source": [
        "from sklearn.naive_bayes import BernoulliNB\n",
        "\n",
        "nb = BernoulliNB()\n",
        "\n",
        "pipeline_nb = Pipeline([(\"col_transformer\", preprocessor), \n",
        "                            (\"estimator\", nb)])\n"
      ],
      "execution_count": null,
      "outputs": []
    },
    {
      "cell_type": "code",
      "metadata": {
        "id": "T6uHskJU5WzZ"
      },
      "source": [
        "\n",
        "pipeline_nb.fit(X_train_rus, y_train_rus)\n",
        "\n",
        "pred_nb = pipeline_nb.predict(X_test)\n",
        "scores.append(f1_score(y_test, pred_nb))"
      ],
      "execution_count": null,
      "outputs": []
    },
    {
      "cell_type": "code",
      "metadata": {
        "colab": {
          "base_uri": "https://localhost:8080/"
        },
        "id": "VM8jRRQWgx9s",
        "outputId": "616e4a3f-f8d2-4893-eb09-de82a0428974"
      },
      "source": [
        "print(classification_report(y_test, pred_nb))"
      ],
      "execution_count": null,
      "outputs": [
        {
          "output_type": "stream",
          "text": [
            "              precision    recall  f1-score   support\n",
            "\n",
            "           0       0.96      0.81      0.87      7292\n",
            "           1       0.32      0.71      0.44       946\n",
            "\n",
            "    accuracy                           0.80      8238\n",
            "   macro avg       0.64      0.76      0.66      8238\n",
            "weighted avg       0.88      0.80      0.83      8238\n",
            "\n"
          ],
          "name": "stdout"
        }
      ]
    },
    {
      "cell_type": "markdown",
      "metadata": {
        "id": "ulHmFLcFgx9s"
      },
      "source": [
        "__SVM__"
      ]
    },
    {
      "cell_type": "code",
      "metadata": {
        "id": "8mnPS5vGgx9s"
      },
      "source": [
        "from sklearn.svm import LinearSVC\n",
        "\n",
        "svm = LinearSVC()\n",
        "\n",
        "pipeline_svm = Pipeline([(\"col_transformer\", preprocessor), \n",
        "                            (\"estimator\", svm)])"
      ],
      "execution_count": null,
      "outputs": []
    },
    {
      "cell_type": "code",
      "metadata": {
        "colab": {
          "base_uri": "https://localhost:8080/"
        },
        "id": "H52mruB67ocb",
        "outputId": "39fd91e3-2a3e-4a6c-e305-1190212ad2e6"
      },
      "source": [
        "\n",
        "pipeline_svm.fit(X_train_rus, y_train_rus)\n",
        "\n",
        "pred_svm = pipeline_svm.predict(X_test)\n",
        "scores.append(f1_score(y_test, pred_svm))"
      ],
      "execution_count": null,
      "outputs": [
        {
          "output_type": "stream",
          "text": [
            "/usr/local/lib/python3.7/dist-packages/sklearn/svm/_base.py:986: ConvergenceWarning: Liblinear failed to converge, increase the number of iterations.\n",
            "  \"the number of iterations.\", ConvergenceWarning)\n"
          ],
          "name": "stderr"
        }
      ]
    },
    {
      "cell_type": "code",
      "metadata": {
        "colab": {
          "base_uri": "https://localhost:8080/"
        },
        "id": "plXRnS7hgx9t",
        "outputId": "dc6ad8da-e408-44ca-b916-b285a422bc55"
      },
      "source": [
        "print(classification_report(y_test, pred_svm))"
      ],
      "execution_count": null,
      "outputs": [
        {
          "output_type": "stream",
          "text": [
            "              precision    recall  f1-score   support\n",
            "\n",
            "           0       0.97      0.86      0.91      7292\n",
            "           1       0.44      0.82      0.57       946\n",
            "\n",
            "    accuracy                           0.86      8238\n",
            "   macro avg       0.70      0.84      0.74      8238\n",
            "weighted avg       0.91      0.86      0.87      8238\n",
            "\n"
          ],
          "name": "stdout"
        }
      ]
    },
    {
      "cell_type": "markdown",
      "metadata": {
        "id": "wt3WIhtjgx9t"
      },
      "source": [
        "__RandomForestClassifier__"
      ]
    },
    {
      "cell_type": "code",
      "metadata": {
        "id": "g3Ieshtogx9t"
      },
      "source": [
        "from sklearn.ensemble import RandomForestClassifier\n",
        "\n",
        "rfc = RandomForestClassifier(n_estimators=500, random_state=42)\n",
        "\n",
        "pipeline_rfc = Pipeline([(\"col_transformer\", preprocessor), \n",
        "                            (\"estimator\", rfc)])"
      ],
      "execution_count": null,
      "outputs": []
    },
    {
      "cell_type": "code",
      "metadata": {
        "id": "g57t3Dj_76Ix"
      },
      "source": [
        "pipeline_rfc.fit(X_train_rus, y_train_rus)\n",
        "\n",
        "pred_rfc = pipeline_rfc.predict(X_test)\n",
        "scores.append(f1_score(y_test, pred_rfc))"
      ],
      "execution_count": null,
      "outputs": []
    },
    {
      "cell_type": "code",
      "metadata": {
        "id": "tUp15_-Bgx9t",
        "colab": {
          "base_uri": "https://localhost:8080/"
        },
        "outputId": "601712d4-bee2-457a-cfa0-bc11592477f3"
      },
      "source": [
        "print(classification_report(y_test, pred_rfc))"
      ],
      "execution_count": null,
      "outputs": [
        {
          "output_type": "stream",
          "text": [
            "              precision    recall  f1-score   support\n",
            "\n",
            "           0       0.99      0.84      0.90      7292\n",
            "           1       0.42      0.90      0.57       946\n",
            "\n",
            "    accuracy                           0.84      8238\n",
            "   macro avg       0.70      0.87      0.74      8238\n",
            "weighted avg       0.92      0.84      0.87      8238\n",
            "\n"
          ],
          "name": "stdout"
        }
      ]
    },
    {
      "cell_type": "markdown",
      "metadata": {
        "id": "AnR58fiq9DvK"
      },
      "source": [
        "__AdaBoost__"
      ]
    },
    {
      "cell_type": "code",
      "metadata": {
        "id": "cM7I6cZT9DvZ"
      },
      "source": [
        "from sklearn.ensemble import AdaBoostClassifier\n",
        "\n",
        "ada = AdaBoostClassifier()\n",
        "\n",
        "pipeline_ada = Pipeline([(\"col_transformer\", preprocessor), \n",
        "                            (\"estimator\", ada)])"
      ],
      "execution_count": null,
      "outputs": []
    },
    {
      "cell_type": "code",
      "metadata": {
        "id": "wr2PmKXG9Dva"
      },
      "source": [
        "\n",
        "pipeline_ada.fit(X_train_rus, y_train_rus)\n",
        "\n",
        "pred_ada = pipeline_ada.predict(X_test)\n",
        "scores.append(f1_score(y_test, pred_ada))"
      ],
      "execution_count": null,
      "outputs": []
    },
    {
      "cell_type": "code",
      "metadata": {
        "id": "RTciQwAI9Dvb",
        "colab": {
          "base_uri": "https://localhost:8080/"
        },
        "outputId": "0df87a69-214d-4d6d-fe92-afd05673c9fb"
      },
      "source": [
        "print(classification_report(y_test, pred_ada))"
      ],
      "execution_count": null,
      "outputs": [
        {
          "output_type": "stream",
          "text": [
            "              precision    recall  f1-score   support\n",
            "\n",
            "           0       0.97      0.85      0.91      7292\n",
            "           1       0.41      0.82      0.55       946\n",
            "\n",
            "    accuracy                           0.84      8238\n",
            "   macro avg       0.69      0.83      0.73      8238\n",
            "weighted avg       0.91      0.84      0.86      8238\n",
            "\n"
          ],
          "name": "stdout"
        }
      ]
    },
    {
      "cell_type": "code",
      "metadata": {
        "colab": {
          "base_uri": "https://localhost:8080/"
        },
        "id": "QVVcQHtt3jmo",
        "outputId": "18ef3936-b27c-44b4-dbac-7810d411a76a"
      },
      "source": [
        "from sklearn.tree import DecisionTreeClassifier\n",
        "ada2 = AdaBoostClassifier(n_estimators=100,\n",
        "                          base_estimator=DecisionTreeClassifier(max_depth=8, \n",
        "                                                                random_state=42), \n",
        "                          random_state=42)\n",
        "pipeline_ada2 = Pipeline([(\"col_transformer\", preprocessor), \n",
        "                            (\"estimator\", ada2)])\n",
        "pipeline_ada2.fit(X_train_rus, y_train_rus)\n",
        "pred_ada = pipeline_ada2.predict(X_test)\n",
        "print(classification_report(y_test, pred_ada))"
      ],
      "execution_count": null,
      "outputs": [
        {
          "output_type": "stream",
          "text": [
            "              precision    recall  f1-score   support\n",
            "\n",
            "           0       0.98      0.82      0.89      7292\n",
            "           1       0.38      0.85      0.53       946\n",
            "\n",
            "    accuracy                           0.83      8238\n",
            "   macro avg       0.68      0.84      0.71      8238\n",
            "weighted avg       0.91      0.83      0.85      8238\n",
            "\n"
          ],
          "name": "stdout"
        }
      ]
    },
    {
      "cell_type": "markdown",
      "metadata": {
        "id": "CQFkDXegk6bU"
      },
      "source": [
        "__XGBoost__"
      ]
    },
    {
      "cell_type": "code",
      "metadata": {
        "id": "vopcbAbqk5bG"
      },
      "source": [
        "from xgboost import XGBClassifier, plot_importance\n",
        "xgb = XGBClassifier()\n",
        "\n",
        "pipeline_xgb = Pipeline([(\"col_transformer\", preprocessor), \n",
        "                            (\"estimator\", xgb)])"
      ],
      "execution_count": null,
      "outputs": []
    },
    {
      "cell_type": "code",
      "metadata": {
        "id": "bLh9XsmI8Fa2"
      },
      "source": [
        "\n",
        "pipeline_xgb.fit(X_train_rus, y_train_rus)\n",
        "\n",
        "pred_xgb = pipeline_xgb.predict(X_test)\n",
        "scores.append(f1_score(y_test, pred_xgb))"
      ],
      "execution_count": null,
      "outputs": []
    },
    {
      "cell_type": "code",
      "metadata": {
        "id": "rGMQV2H7zxoY",
        "colab": {
          "base_uri": "https://localhost:8080/"
        },
        "outputId": "1b71c679-6019-4be5-d136-67f7bd68af11"
      },
      "source": [
        "print(classification_report(y_test, pred_xgb))"
      ],
      "execution_count": null,
      "outputs": [
        {
          "output_type": "stream",
          "text": [
            "              precision    recall  f1-score   support\n",
            "\n",
            "           0       0.98      0.84      0.91      7292\n",
            "           1       0.42      0.88      0.56       946\n",
            "\n",
            "    accuracy                           0.84      8238\n",
            "   macro avg       0.70      0.86      0.73      8238\n",
            "weighted avg       0.92      0.84      0.87      8238\n",
            "\n"
          ],
          "name": "stdout"
        }
      ]
    },
    {
      "cell_type": "markdown",
      "metadata": {
        "id": "t80ukMjT_Fxn"
      },
      "source": [
        "### Compare model performance"
      ]
    },
    {
      "cell_type": "code",
      "metadata": {
        "id": "q7R2dAGtgx9u",
        "colab": {
          "base_uri": "https://localhost:8080/",
          "height": 265
        },
        "outputId": "6001fb60-6eb3-4e22-c86b-2209b04921fb"
      },
      "source": [
        "models = [\"knn\", \"nb\", \"svm\", \"rfc\",\"ada\",\"xgb\"]\n",
        "plt.bar(models, scores);"
      ],
      "execution_count": null,
      "outputs": [
        {
          "output_type": "display_data",
          "data": {
            "image/png": "[encoded data removed]",
            "text/plain": [
              "<Figure size 432x288 with 1 Axes>"
            ]
          },
          "metadata": {
            "tags": [],
            "needs_background": "light"
          }
        }
      ]
    },
    {
      "cell_type": "code",
      "metadata": {
        "colab": {
          "base_uri": "https://localhost:8080/"
        },
        "id": "o9m7ZEub_497",
        "outputId": "0d9d08c5-0641-450e-ad62-446f182351ed"
      },
      "source": [
        "models"
      ],
      "execution_count": null,
      "outputs": [
        {
          "output_type": "execute_result",
          "data": {
            "text/plain": [
              "['knn', 'nb', 'svm', 'rfc', 'ada', 'xgb']"
            ]
          },
          "metadata": {
            "tags": []
          },
          "execution_count": 59
        }
      ]
    },
    {
      "cell_type": "code",
      "metadata": {
        "colab": {
          "base_uri": "https://localhost:8080/"
        },
        "id": "3WS7Sq_D_6jp",
        "outputId": "47fead5a-a5b1-46b4-a815-09e6488bf900"
      },
      "source": [
        "scores"
      ],
      "execution_count": null,
      "outputs": [
        {
          "output_type": "execute_result",
          "data": {
            "text/plain": [
              "[0.504805980776077,\n",
              " 0.44407786209171896,\n",
              " 0.5685986793837124,\n",
              " 0.570286475682878,\n",
              " 0.547635850388144,\n",
              " 0.5644504748982361]"
            ]
          },
          "metadata": {
            "tags": []
          },
          "execution_count": 60
        }
      ]
    },
    {
      "cell_type": "code",
      "metadata": {
        "id": "DWs_S8Yj9rgv",
        "colab": {
          "base_uri": "https://localhost:8080/",
          "height": 265
        },
        "outputId": "85e44779-ced4-4252-f1c5-ff22e2506ef3"
      },
      "source": [
        "plt.plot(models,scores);"
      ],
      "execution_count": null,
      "outputs": [
        {
          "output_type": "display_data",
          "data": {
            "image/png": "[encoded data removed]",
            "text/plain": [
              "<Figure size 432x288 with 1 Axes>"
            ]
          },
          "metadata": {
            "tags": [],
            "needs_background": "light"
          }
        }
      ]
    },
    {
      "cell_type": "markdown",
      "metadata": {
        "id": "kxbOIf6Q_ZWo"
      },
      "source": [
        "### Feature Importance \n",
        "\n",
        "Trees based models like RandomForest, XGBoost, etc.  provide us feature importance based on the training."
      ]
    },
    {
      "cell_type": "code",
      "metadata": {
        "colab": {
          "base_uri": "https://localhost:8080/"
        },
        "id": "Ey_So5IL5XYG",
        "outputId": "c738c694-8465-4356-dbbf-135fe9de1618"
      },
      "source": [
        "pipeline_rfc"
      ],
      "execution_count": null,
      "outputs": [
        {
          "output_type": "execute_result",
          "data": {
            "text/plain": [
              "Pipeline(steps=[('col_transformer',\n",
              "                 ColumnTransformer(transformers=[('num',\n",
              "                                                  Pipeline(steps=[('scaler',\n",
              "                                                                   StandardScaler())]),\n",
              "                                                  Index(['age', 'duration', 'campaign', 'pdays', 'previous'], dtype='object')),\n",
              "                                                 ('cat',\n",
              "                                                  Pipeline(steps=[('onehot',\n",
              "                                                                   OneHotEncoder(handle_unknown='ignore'))]),\n",
              "                                                  Index(['job', 'marital', 'education', 'default', 'housing', 'loan', 'contact',\n",
              "       'month', 'day_of_week', 'poutcome'],\n",
              "      dtype='object'))])),\n",
              "                ('estimator',\n",
              "                 RandomForestClassifier(n_estimators=500, random_state=42))])"
            ]
          },
          "metadata": {
            "tags": []
          },
          "execution_count": 62
        }
      ]
    },
    {
      "cell_type": "code",
      "metadata": {
        "id": "dVdfnLXH_wr6",
        "colab": {
          "base_uri": "https://localhost:8080/"
        },
        "outputId": "e09c23b7-f25c-4cc1-a45d-8db7cba4778d"
      },
      "source": [
        "rfc_model = pipeline_rfc['estimator']\n",
        "rfc_model"
      ],
      "execution_count": null,
      "outputs": [
        {
          "output_type": "execute_result",
          "data": {
            "text/plain": [
              "RandomForestClassifier(n_estimators=500, random_state=42)"
            ]
          },
          "metadata": {
            "tags": []
          },
          "execution_count": 63
        }
      ]
    },
    {
      "cell_type": "code",
      "metadata": {
        "id": "-QrGDsPuD9Cm",
        "colab": {
          "base_uri": "https://localhost:8080/"
        },
        "outputId": "6ec3f8c7-5b8b-41bc-b501-4495bb04a106"
      },
      "source": [
        "pipeline_rfc['col_transformer'].transformers_"
      ],
      "execution_count": null,
      "outputs": [
        {
          "output_type": "execute_result",
          "data": {
            "text/plain": [
              "[('num',\n",
              "  Pipeline(steps=[('scaler', StandardScaler())]),\n",
              "  Index(['age', 'duration', 'campaign', 'pdays', 'previous'], dtype='object')),\n",
              " ('cat',\n",
              "  Pipeline(steps=[('onehot', OneHotEncoder(handle_unknown='ignore'))]),\n",
              "  Index(['job', 'marital', 'education', 'default', 'housing', 'loan', 'contact',\n",
              "         'month', 'day_of_week', 'poutcome'],\n",
              "        dtype='object')),\n",
              " ('remainder', 'drop', [15, 16, 17, 18, 19])]"
            ]
          },
          "metadata": {
            "tags": []
          },
          "execution_count": 64
        }
      ]
    },
    {
      "cell_type": "code",
      "metadata": {
        "id": "4jZ6DFdUEMgh"
      },
      "source": [
        "num_feat = list(pipeline_rfc['col_transformer'].transformers_[0][2])\n",
        "cat_feat = list(pipeline_rfc['col_transformer'].transformers_[1][1]['onehot'].get_feature_names(categorical_features))"
      ],
      "execution_count": null,
      "outputs": []
    },
    {
      "cell_type": "code",
      "metadata": {
        "id": "tkoxGLimD66b",
        "colab": {
          "base_uri": "https://localhost:8080/"
        },
        "outputId": "fb936dd1-09d5-4487-9714-99ea2bc08f9b"
      },
      "source": [
        "feature_columns = num_feat+cat_feat\n",
        "feature_columns"
      ],
      "execution_count": null,
      "outputs": [
        {
          "output_type": "execute_result",
          "data": {
            "text/plain": [
              "['age',\n",
              " 'duration',\n",
              " 'campaign',\n",
              " 'pdays',\n",
              " 'previous',\n",
              " 'job_admin.',\n",
              " 'job_blue-collar',\n",
              " 'job_entrepreneur',\n",
              " 'job_housemaid',\n",
              " 'job_management',\n",
              " 'job_retired',\n",
              " 'job_self-employed',\n",
              " 'job_services',\n",
              " 'job_student',\n",
              " 'job_technician',\n",
              " 'job_unemployed',\n",
              " 'job_unknown',\n",
              " 'marital_divorced',\n",
              " 'marital_married',\n",
              " 'marital_single',\n",
              " 'marital_unknown',\n",
              " 'education_basic.4y',\n",
              " 'education_basic.6y',\n",
              " 'education_basic.9y',\n",
              " 'education_high.school',\n",
              " 'education_illiterate',\n",
              " 'education_professional.course',\n",
              " 'education_university.degree',\n",
              " 'education_unknown',\n",
              " 'default_no',\n",
              " 'default_unknown',\n",
              " 'housing_no',\n",
              " 'housing_unknown',\n",
              " 'housing_yes',\n",
              " 'loan_no',\n",
              " 'loan_unknown',\n",
              " 'loan_yes',\n",
              " 'contact_cellular',\n",
              " 'contact_telephone',\n",
              " 'month_apr',\n",
              " 'month_aug',\n",
              " 'month_dec',\n",
              " 'month_jul',\n",
              " 'month_jun',\n",
              " 'month_mar',\n",
              " 'month_may',\n",
              " 'month_nov',\n",
              " 'month_oct',\n",
              " 'month_sep',\n",
              " 'day_of_week_fri',\n",
              " 'day_of_week_mon',\n",
              " 'day_of_week_thu',\n",
              " 'day_of_week_tue',\n",
              " 'day_of_week_wed',\n",
              " 'poutcome_failure',\n",
              " 'poutcome_nonexistent',\n",
              " 'poutcome_success']"
            ]
          },
          "metadata": {
            "tags": []
          },
          "execution_count": 66
        }
      ]
    },
    {
      "cell_type": "code",
      "metadata": {
        "colab": {
          "base_uri": "https://localhost:8080/"
        },
        "id": "JuDF19foAqL7",
        "outputId": "46bc3b53-c22d-4bb1-91d0-5c42c953b522"
      },
      "source": [
        "rfc_model.feature_importances_"
      ],
      "execution_count": null,
      "outputs": [
        {
          "output_type": "execute_result",
          "data": {
            "text/plain": [
              "array([8.68824664e-02, 3.55761320e-01, 3.97206822e-02, 3.30589997e-02,\n",
              "       1.86403734e-02, 1.06862701e-02, 9.30979657e-03, 3.82869422e-03,\n",
              "       3.13232592e-03, 6.16254764e-03, 6.71773012e-03, 4.32718460e-03,\n",
              "       6.88706261e-03, 6.66226931e-03, 9.18551378e-03, 3.46264440e-03,\n",
              "       1.45786869e-03, 6.52966347e-03, 1.05220434e-02, 1.04457053e-02,\n",
              "       1.66006530e-04, 6.00374008e-03, 3.71951074e-03, 7.48790246e-03,\n",
              "       1.01542545e-02, 2.36888416e-04, 7.61321264e-03, 1.15848625e-02,\n",
              "       4.42889467e-03, 8.90891832e-03, 9.20058076e-03, 1.18576310e-02,\n",
              "       1.93160090e-03, 1.17709180e-02, 8.30132479e-03, 1.82778314e-03,\n",
              "       7.74647173e-03, 1.73785437e-02, 1.65391812e-02, 1.30534719e-02,\n",
              "       9.84519026e-03, 2.47463396e-03, 1.12941986e-02, 1.49733947e-02,\n",
              "       1.70960932e-02, 1.77349446e-02, 1.02005515e-02, 1.23535621e-02,\n",
              "       7.38583953e-03, 1.09061125e-02, 1.15538963e-02, 1.13907568e-02,\n",
              "       1.07021752e-02, 1.06513216e-02, 6.30671849e-03, 1.62226745e-02,\n",
              "       2.56150766e-02])"
            ]
          },
          "metadata": {
            "tags": []
          },
          "execution_count": 68
        }
      ]
    },
    {
      "cell_type": "code",
      "metadata": {
        "id": "JmzEe6ZG-JV7",
        "colab": {
          "base_uri": "https://localhost:8080/",
          "height": 1000
        },
        "outputId": "dc2f5e86-4de2-4581-9e3c-17cf73fb6ca4"
      },
      "source": [
        "rfc_importances = pd.DataFrame(\n",
        "    {\"feature\": feature_columns, \"importance\": np.round(rfc.feature_importances_, 3)}\n",
        ")\n",
        "rfc_importances = rfc_importances.sort_values(\"importance\", ascending=False).set_index(\n",
        "    \"feature\"\n",
        ")\n",
        "rfc_importances"
      ],
      "execution_count": null,
      "outputs": [
        {
          "output_type": "execute_result",
          "data": {
            "text/html": [
              "<div>\n",
              "<style scoped>\n",
              "    .dataframe tbody tr th:only-of-type {\n",
              "        vertical-align: middle;\n",
              "    }\n",
              "\n",
              "    .dataframe tbody tr th {\n",
              "        vertical-align: top;\n",
              "    }\n",
              "\n",
              "    .dataframe thead th {\n",
              "        text-align: right;\n",
              "    }\n",
              "</style>\n",
              "<table border=\"1\" class=\"dataframe\">\n",
              "  <thead>\n",
              "    <tr style=\"text-align: right;\">\n",
              "      <th></th>\n",
              "      <th>importance</th>\n",
              "    </tr>\n",
              "    <tr>\n",
              "      <th>feature</th>\n",
              "      <th></th>\n",
              "    </tr>\n",
              "  </thead>\n",
              "  <tbody>\n",
              "    <tr>\n",
              "      <th>duration</th>\n",
              "      <td>0.356</td>\n",
              "    </tr>\n",
              "    <tr>\n",
              "      <th>age</th>\n",
              "      <td>0.087</td>\n",
              "    </tr>\n",
              "    <tr>\n",
              "      <th>campaign</th>\n",
              "      <td>0.040</td>\n",
              "    </tr>\n",
              "    <tr>\n",
              "      <th>pdays</th>\n",
              "      <td>0.033</td>\n",
              "    </tr>\n",
              "    <tr>\n",
              "      <th>poutcome_success</th>\n",
              "      <td>0.026</td>\n",
              "    </tr>\n",
              "    <tr>\n",
              "      <th>previous</th>\n",
              "      <td>0.019</td>\n",
              "    </tr>\n",
              "    <tr>\n",
              "      <th>month_may</th>\n",
              "      <td>0.018</td>\n",
              "    </tr>\n",
              "    <tr>\n",
              "      <th>month_mar</th>\n",
              "      <td>0.017</td>\n",
              "    </tr>\n",
              "    <tr>\n",
              "      <th>contact_telephone</th>\n",
              "      <td>0.017</td>\n",
              "    </tr>\n",
              "    <tr>\n",
              "      <th>contact_cellular</th>\n",
              "      <td>0.017</td>\n",
              "    </tr>\n",
              "    <tr>\n",
              "      <th>poutcome_nonexistent</th>\n",
              "      <td>0.016</td>\n",
              "    </tr>\n",
              "    <tr>\n",
              "      <th>month_jun</th>\n",
              "      <td>0.015</td>\n",
              "    </tr>\n",
              "    <tr>\n",
              "      <th>month_apr</th>\n",
              "      <td>0.013</td>\n",
              "    </tr>\n",
              "    <tr>\n",
              "      <th>day_of_week_mon</th>\n",
              "      <td>0.012</td>\n",
              "    </tr>\n",
              "    <tr>\n",
              "      <th>month_oct</th>\n",
              "      <td>0.012</td>\n",
              "    </tr>\n",
              "    <tr>\n",
              "      <th>education_university.degree</th>\n",
              "      <td>0.012</td>\n",
              "    </tr>\n",
              "    <tr>\n",
              "      <th>housing_yes</th>\n",
              "      <td>0.012</td>\n",
              "    </tr>\n",
              "    <tr>\n",
              "      <th>housing_no</th>\n",
              "      <td>0.012</td>\n",
              "    </tr>\n",
              "    <tr>\n",
              "      <th>day_of_week_wed</th>\n",
              "      <td>0.011</td>\n",
              "    </tr>\n",
              "    <tr>\n",
              "      <th>day_of_week_tue</th>\n",
              "      <td>0.011</td>\n",
              "    </tr>\n",
              "    <tr>\n",
              "      <th>day_of_week_thu</th>\n",
              "      <td>0.011</td>\n",
              "    </tr>\n",
              "    <tr>\n",
              "      <th>day_of_week_fri</th>\n",
              "      <td>0.011</td>\n",
              "    </tr>\n",
              "    <tr>\n",
              "      <th>month_jul</th>\n",
              "      <td>0.011</td>\n",
              "    </tr>\n",
              "    <tr>\n",
              "      <th>job_admin.</th>\n",
              "      <td>0.011</td>\n",
              "    </tr>\n",
              "    <tr>\n",
              "      <th>marital_married</th>\n",
              "      <td>0.011</td>\n",
              "    </tr>\n",
              "    <tr>\n",
              "      <th>education_high.school</th>\n",
              "      <td>0.010</td>\n",
              "    </tr>\n",
              "    <tr>\n",
              "      <th>marital_single</th>\n",
              "      <td>0.010</td>\n",
              "    </tr>\n",
              "    <tr>\n",
              "      <th>month_nov</th>\n",
              "      <td>0.010</td>\n",
              "    </tr>\n",
              "    <tr>\n",
              "      <th>month_aug</th>\n",
              "      <td>0.010</td>\n",
              "    </tr>\n",
              "    <tr>\n",
              "      <th>default_no</th>\n",
              "      <td>0.009</td>\n",
              "    </tr>\n",
              "    <tr>\n",
              "      <th>job_blue-collar</th>\n",
              "      <td>0.009</td>\n",
              "    </tr>\n",
              "    <tr>\n",
              "      <th>job_technician</th>\n",
              "      <td>0.009</td>\n",
              "    </tr>\n",
              "    <tr>\n",
              "      <th>default_unknown</th>\n",
              "      <td>0.009</td>\n",
              "    </tr>\n",
              "    <tr>\n",
              "      <th>loan_yes</th>\n",
              "      <td>0.008</td>\n",
              "    </tr>\n",
              "    <tr>\n",
              "      <th>education_professional.course</th>\n",
              "      <td>0.008</td>\n",
              "    </tr>\n",
              "    <tr>\n",
              "      <th>loan_no</th>\n",
              "      <td>0.008</td>\n",
              "    </tr>\n",
              "    <tr>\n",
              "      <th>job_student</th>\n",
              "      <td>0.007</td>\n",
              "    </tr>\n",
              "    <tr>\n",
              "      <th>education_basic.9y</th>\n",
              "      <td>0.007</td>\n",
              "    </tr>\n",
              "    <tr>\n",
              "      <th>job_services</th>\n",
              "      <td>0.007</td>\n",
              "    </tr>\n",
              "    <tr>\n",
              "      <th>marital_divorced</th>\n",
              "      <td>0.007</td>\n",
              "    </tr>\n",
              "    <tr>\n",
              "      <th>month_sep</th>\n",
              "      <td>0.007</td>\n",
              "    </tr>\n",
              "    <tr>\n",
              "      <th>job_retired</th>\n",
              "      <td>0.007</td>\n",
              "    </tr>\n",
              "    <tr>\n",
              "      <th>poutcome_failure</th>\n",
              "      <td>0.006</td>\n",
              "    </tr>\n",
              "    <tr>\n",
              "      <th>job_management</th>\n",
              "      <td>0.006</td>\n",
              "    </tr>\n",
              "    <tr>\n",
              "      <th>education_basic.4y</th>\n",
              "      <td>0.006</td>\n",
              "    </tr>\n",
              "    <tr>\n",
              "      <th>job_self-employed</th>\n",
              "      <td>0.004</td>\n",
              "    </tr>\n",
              "    <tr>\n",
              "      <th>job_entrepreneur</th>\n",
              "      <td>0.004</td>\n",
              "    </tr>\n",
              "    <tr>\n",
              "      <th>education_unknown</th>\n",
              "      <td>0.004</td>\n",
              "    </tr>\n",
              "    <tr>\n",
              "      <th>education_basic.6y</th>\n",
              "      <td>0.004</td>\n",
              "    </tr>\n",
              "    <tr>\n",
              "      <th>job_unemployed</th>\n",
              "      <td>0.003</td>\n",
              "    </tr>\n",
              "    <tr>\n",
              "      <th>job_housemaid</th>\n",
              "      <td>0.003</td>\n",
              "    </tr>\n",
              "    <tr>\n",
              "      <th>month_dec</th>\n",
              "      <td>0.002</td>\n",
              "    </tr>\n",
              "    <tr>\n",
              "      <th>loan_unknown</th>\n",
              "      <td>0.002</td>\n",
              "    </tr>\n",
              "    <tr>\n",
              "      <th>housing_unknown</th>\n",
              "      <td>0.002</td>\n",
              "    </tr>\n",
              "    <tr>\n",
              "      <th>job_unknown</th>\n",
              "      <td>0.001</td>\n",
              "    </tr>\n",
              "    <tr>\n",
              "      <th>education_illiterate</th>\n",
              "      <td>0.000</td>\n",
              "    </tr>\n",
              "    <tr>\n",
              "      <th>marital_unknown</th>\n",
              "      <td>0.000</td>\n",
              "    </tr>\n",
              "  </tbody>\n",
              "</table>\n",
              "</div>"
            ],
            "text/plain": [
              "                               importance\n",
              "feature                                  \n",
              "duration                            0.356\n",
              "age                                 0.087\n",
              "campaign                            0.040\n",
              "pdays                               0.033\n",
              "poutcome_success                    0.026\n",
              "previous                            0.019\n",
              "month_may                           0.018\n",
              "month_mar                           0.017\n",
              "contact_telephone                   0.017\n",
              "contact_cellular                    0.017\n",
              "poutcome_nonexistent                0.016\n",
              "month_jun                           0.015\n",
              "month_apr                           0.013\n",
              "day_of_week_mon                     0.012\n",
              "month_oct                           0.012\n",
              "education_university.degree         0.012\n",
              "housing_yes                         0.012\n",
              "housing_no                          0.012\n",
              "day_of_week_wed                     0.011\n",
              "day_of_week_tue                     0.011\n",
              "day_of_week_thu                     0.011\n",
              "day_of_week_fri                     0.011\n",
              "month_jul                           0.011\n",
              "job_admin.                          0.011\n",
              "marital_married                     0.011\n",
              "education_high.school               0.010\n",
              "marital_single                      0.010\n",
              "month_nov                           0.010\n",
              "month_aug                           0.010\n",
              "default_no                          0.009\n",
              "job_blue-collar                     0.009\n",
              "job_technician                      0.009\n",
              "default_unknown                     0.009\n",
              "loan_yes                            0.008\n",
              "education_professional.course       0.008\n",
              "loan_no                             0.008\n",
              "job_student                         0.007\n",
              "education_basic.9y                  0.007\n",
              "job_services                        0.007\n",
              "marital_divorced                    0.007\n",
              "month_sep                           0.007\n",
              "job_retired                         0.007\n",
              "poutcome_failure                    0.006\n",
              "job_management                      0.006\n",
              "education_basic.4y                  0.006\n",
              "job_self-employed                   0.004\n",
              "job_entrepreneur                    0.004\n",
              "education_unknown                   0.004\n",
              "education_basic.6y                  0.004\n",
              "job_unemployed                      0.003\n",
              "job_housemaid                       0.003\n",
              "month_dec                           0.002\n",
              "loan_unknown                        0.002\n",
              "housing_unknown                     0.002\n",
              "job_unknown                         0.001\n",
              "education_illiterate                0.000\n",
              "marital_unknown                     0.000"
            ]
          },
          "metadata": {
            "tags": []
          },
          "execution_count": 70
        }
      ]
    },
    {
      "cell_type": "code",
      "metadata": {
        "id": "X9VskXKhF6PM"
      },
      "source": [
        "# rfc_importances"
      ],
      "execution_count": null,
      "outputs": []
    },
    {
      "cell_type": "code",
      "metadata": {
        "id": "PM3cgsWYFR8h",
        "colab": {
          "base_uri": "https://localhost:8080/",
          "height": 592
        },
        "outputId": "0af3f528-dc61-4473-8fd0-bc4b88293aa6"
      },
      "source": [
        "f,ax = plt.subplots(figsize=(10,10)) \n",
        "rfc_importances.plot(kind=\"barh\",ax=ax);"
      ],
      "execution_count": null,
      "outputs": [
        {
          "output_type": "display_data",
          "data": {
            "image/png": "[encoded data removed]",
            "text/plain": [
              "<Figure size 720x720 with 1 Axes>"
            ]
          },
          "metadata": {
            "tags": [],
            "needs_background": "light"
          }
        }
      ]
    },
    {
      "cell_type": "code",
      "metadata": {
        "id": "51cp63eeDakE"
      },
      "source": [
        ""
      ],
      "execution_count": null,
      "outputs": []
    }
  ]
}